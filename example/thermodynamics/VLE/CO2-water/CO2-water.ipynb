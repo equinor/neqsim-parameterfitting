{
 "cells": [
  {
   "cell_type": "code",
   "execution_count": 122,
   "metadata": {},
   "outputs": [],
   "source": [
    "%%capture\n",
    "!pip install neqsim\n",
    "\n",
    "#To check for methods in a Java object \n",
    "#from neqsim import methods"
   ]
  },
  {
   "cell_type": "markdown",
   "metadata": {},
   "source": []
  },
  {
   "attachments": {},
   "cell_type": "markdown",
   "metadata": {},
   "source": [
    "# Experimental data\n",
    "Experimental data from a number of sources was collected for the solubility of CO2 in water"
   ]
  },
  {
   "cell_type": "code",
   "execution_count": 123,
   "metadata": {},
   "outputs": [
    {
     "data": {
      "text/html": [
       "<div>\n",
       "<style scoped>\n",
       "    .dataframe tbody tr th:only-of-type {\n",
       "        vertical-align: middle;\n",
       "    }\n",
       "\n",
       "    .dataframe tbody tr th {\n",
       "        vertical-align: top;\n",
       "    }\n",
       "\n",
       "    .dataframe thead th {\n",
       "        text-align: right;\n",
       "    }\n",
       "</style>\n",
       "<table border=\"1\" class=\"dataframe\">\n",
       "  <thead>\n",
       "    <tr style=\"text-align: right;\">\n",
       "      <th></th>\n",
       "      <th>ID</th>\n",
       "      <th>ComponentSolute</th>\n",
       "      <th>ComponentSolvent</th>\n",
       "      <th>x1</th>\n",
       "      <th>StandardDeviation</th>\n",
       "      <th>Pressure</th>\n",
       "      <th>VapourPressure2</th>\n",
       "      <th>Type</th>\n",
       "      <th>Temperature</th>\n",
       "      <th>Reference</th>\n",
       "    </tr>\n",
       "  </thead>\n",
       "  <tbody>\n",
       "    <tr>\n",
       "      <th>0</th>\n",
       "      <td>1</td>\n",
       "      <td>CO2</td>\n",
       "      <td>water</td>\n",
       "      <td>0.000985</td>\n",
       "      <td>0.000020</td>\n",
       "      <td>1.01325</td>\n",
       "      <td>0</td>\n",
       "      <td>VLE</td>\n",
       "      <td>283.15</td>\n",
       "      <td>Houghton1957</td>\n",
       "    </tr>\n",
       "    <tr>\n",
       "      <th>1</th>\n",
       "      <td>2</td>\n",
       "      <td>CO2</td>\n",
       "      <td>water</td>\n",
       "      <td>0.001946</td>\n",
       "      <td>0.000024</td>\n",
       "      <td>2.02650</td>\n",
       "      <td>0</td>\n",
       "      <td>VLE</td>\n",
       "      <td>283.15</td>\n",
       "      <td>Houghton1957</td>\n",
       "    </tr>\n",
       "    <tr>\n",
       "      <th>2</th>\n",
       "      <td>3</td>\n",
       "      <td>CO2</td>\n",
       "      <td>water</td>\n",
       "      <td>0.003800</td>\n",
       "      <td>0.000076</td>\n",
       "      <td>4.05300</td>\n",
       "      <td>0</td>\n",
       "      <td>VLE</td>\n",
       "      <td>283.15</td>\n",
       "      <td>Houghton1957</td>\n",
       "    </tr>\n",
       "    <tr>\n",
       "      <th>3</th>\n",
       "      <td>4</td>\n",
       "      <td>CO2</td>\n",
       "      <td>water</td>\n",
       "      <td>0.005560</td>\n",
       "      <td>0.000111</td>\n",
       "      <td>6.07950</td>\n",
       "      <td>0</td>\n",
       "      <td>VLE</td>\n",
       "      <td>283.15</td>\n",
       "      <td>Houghton1957</td>\n",
       "    </tr>\n",
       "    <tr>\n",
       "      <th>4</th>\n",
       "      <td>5</td>\n",
       "      <td>CO2</td>\n",
       "      <td>water</td>\n",
       "      <td>0.007230</td>\n",
       "      <td>0.000145</td>\n",
       "      <td>8.10600</td>\n",
       "      <td>0</td>\n",
       "      <td>VLE</td>\n",
       "      <td>283.15</td>\n",
       "      <td>Houghton1957</td>\n",
       "    </tr>\n",
       "    <tr>\n",
       "      <th>...</th>\n",
       "      <td>...</td>\n",
       "      <td>...</td>\n",
       "      <td>...</td>\n",
       "      <td>...</td>\n",
       "      <td>...</td>\n",
       "      <td>...</td>\n",
       "      <td>...</td>\n",
       "      <td>...</td>\n",
       "      <td>...</td>\n",
       "      <td>...</td>\n",
       "    </tr>\n",
       "    <tr>\n",
       "      <th>128</th>\n",
       "      <td>129</td>\n",
       "      <td>CO2</td>\n",
       "      <td>water</td>\n",
       "      <td>0.000817</td>\n",
       "      <td>0.000016</td>\n",
       "      <td>1.00000</td>\n",
       "      <td>0</td>\n",
       "      <td>VLE</td>\n",
       "      <td>288.15</td>\n",
       "      <td>Murray1971</td>\n",
       "    </tr>\n",
       "    <tr>\n",
       "      <th>129</th>\n",
       "      <td>130</td>\n",
       "      <td>CO2</td>\n",
       "      <td>water</td>\n",
       "      <td>0.000701</td>\n",
       "      <td>0.000014</td>\n",
       "      <td>1.00000</td>\n",
       "      <td>0</td>\n",
       "      <td>VLE</td>\n",
       "      <td>293.15</td>\n",
       "      <td>Murray1971</td>\n",
       "    </tr>\n",
       "    <tr>\n",
       "      <th>130</th>\n",
       "      <td>131</td>\n",
       "      <td>CO2</td>\n",
       "      <td>water</td>\n",
       "      <td>0.000609</td>\n",
       "      <td>0.000012</td>\n",
       "      <td>1.00000</td>\n",
       "      <td>0</td>\n",
       "      <td>VLE</td>\n",
       "      <td>298.15</td>\n",
       "      <td>Murray1971</td>\n",
       "    </tr>\n",
       "    <tr>\n",
       "      <th>131</th>\n",
       "      <td>132</td>\n",
       "      <td>CO2</td>\n",
       "      <td>water</td>\n",
       "      <td>0.000514</td>\n",
       "      <td>0.000010</td>\n",
       "      <td>1.00000</td>\n",
       "      <td>0</td>\n",
       "      <td>VLE</td>\n",
       "      <td>305.15</td>\n",
       "      <td>Murray1971</td>\n",
       "    </tr>\n",
       "    <tr>\n",
       "      <th>132</th>\n",
       "      <td>133</td>\n",
       "      <td>CO2</td>\n",
       "      <td>water</td>\n",
       "      <td>0.000480</td>\n",
       "      <td>0.000010</td>\n",
       "      <td>1.00000</td>\n",
       "      <td>0</td>\n",
       "      <td>VLE</td>\n",
       "      <td>308.15</td>\n",
       "      <td>Murray1971</td>\n",
       "    </tr>\n",
       "  </tbody>\n",
       "</table>\n",
       "<p>133 rows × 10 columns</p>\n",
       "</div>"
      ],
      "text/plain": [
       "      ID ComponentSolute ComponentSolvent        x1  StandardDeviation  \\\n",
       "0      1             CO2            water  0.000985           0.000020   \n",
       "1      2             CO2            water  0.001946           0.000024   \n",
       "2      3             CO2            water  0.003800           0.000076   \n",
       "3      4             CO2            water  0.005560           0.000111   \n",
       "4      5             CO2            water  0.007230           0.000145   \n",
       "..   ...             ...              ...       ...                ...   \n",
       "128  129             CO2            water  0.000817           0.000016   \n",
       "129  130             CO2            water  0.000701           0.000014   \n",
       "130  131             CO2            water  0.000609           0.000012   \n",
       "131  132             CO2            water  0.000514           0.000010   \n",
       "132  133             CO2            water  0.000480           0.000010   \n",
       "\n",
       "     Pressure  VapourPressure2 Type  Temperature     Reference  \n",
       "0     1.01325                0  VLE       283.15  Houghton1957  \n",
       "1     2.02650                0  VLE       283.15  Houghton1957  \n",
       "2     4.05300                0  VLE       283.15  Houghton1957  \n",
       "3     6.07950                0  VLE       283.15  Houghton1957  \n",
       "4     8.10600                0  VLE       283.15  Houghton1957  \n",
       "..        ...              ...  ...          ...           ...  \n",
       "128   1.00000                0  VLE       288.15    Murray1971  \n",
       "129   1.00000                0  VLE       293.15    Murray1971  \n",
       "130   1.00000                0  VLE       298.15    Murray1971  \n",
       "131   1.00000                0  VLE       305.15    Murray1971  \n",
       "132   1.00000                0  VLE       308.15    Murray1971  \n",
       "\n",
       "[133 rows x 10 columns]"
      ]
     },
     "execution_count": 123,
     "metadata": {},
     "output_type": "execute_result"
    }
   ],
   "source": [
    "import pandas as pd\n",
    "expdata_df = pd.read_csv('../../../../data/thermodynamics/VLE/CO2-water/water-CO2.csv')\n",
    "expdata_df"
   ]
  },
  {
   "cell_type": "code",
   "execution_count": 124,
   "metadata": {},
   "outputs": [
    {
     "name": "stdout",
     "output_type": "stream",
     "text": [
      "references  ['Houghton1957', 'Addicks2001', 'Zawisza1981', 'Nighswander1989', 'Morgan1931', 'Murray1971']\n",
      "temperature  [283.15, 293.15, 273.15, 288.15, 298.15, 308.15, 323.15, 348.15, 373.15, 353.65, 353.35, 353.75, 353.45, 352.85, 291.15, 274.19, 278.15, 305.15]\n",
      "numer of data points for each temperature:\n",
      "Temperature\n",
      "273.15    11\n",
      "274.19     1\n",
      "278.15     1\n",
      "283.15    17\n",
      "288.15    12\n",
      "291.15     4\n",
      "293.15    16\n",
      "298.15    15\n",
      "305.15     1\n",
      "308.15     8\n",
      "323.15    18\n",
      "348.15    12\n",
      "352.85     1\n",
      "353.35     1\n",
      "353.45     1\n",
      "353.65     4\n",
      "353.75     1\n",
      "373.15     9\n",
      "Name: Pressure, dtype: int64\n"
     ]
    }
   ],
   "source": [
    "referenceList = expdata_df['Reference'].unique().tolist()\n",
    "temperatureList = expdata_df['Temperature'].unique().tolist()\n",
    "data = expdata_df.groupby(['Temperature'])['Pressure'].count()\n",
    "print('references ', referenceList)\n",
    "print('temperature ', temperatureList)\n",
    "print('numer of data points for each temperature:')\n",
    "print(data)"
   ]
  },
  {
   "cell_type": "code",
   "execution_count": 125,
   "metadata": {},
   "outputs": [
    {
     "data": {
      "text/plain": [
       "<Figure size 640x480 with 0 Axes>"
      ]
     },
     "metadata": {},
     "output_type": "display_data"
    },
    {
     "data": {
      "image/png": "[encoded data removed]",
      "text/plain": [
       "<Figure size 640x480 with 1 Axes>"
      ]
     },
     "metadata": {},
     "output_type": "display_data"
    }
   ],
   "source": [
    "from matplotlib import pyplot as plt\n",
    "fig = plt.figure()\n",
    "\n",
    "data283 = expdata_df.loc[expdata_df['Temperature'] == 283.15]\n",
    "plot1 = data283.plot(x='x1', y='Pressure', kind='scatter',ylabel='Pressure(bara)', xlabel='x_CO2[mol/mol]',color='red')\n",
    "\n",
    "data288 = expdata_df.loc[expdata_df['Temperature'] == 288.15]\n",
    "data288.plot(ax=plot1, x='x1', y='Pressure', kind='scatter',ylabel='Pressure(bara)', xlabel='x_CO2[mol/mol]',color='blue')\n",
    "\n",
    "data323 = expdata_df.loc[expdata_df['Temperature'] == 323.15]\n",
    "data323.plot(ax=plot1, x='x1', y='Pressure', kind='scatter',ylabel='Pressure(bara)', xlabel='x_CO2[mol/mol]',color='yellow')\n",
    "\n",
    "data373 = expdata_df.loc[expdata_df['Temperature'] == 373.15]\n",
    "data373.plot(ax=plot1, x='x1', y='Pressure', kind='scatter',ylabel='Pressure(bara)', xlabel='x_CO2[mol/mol]',color='black')\t\t\t\n",
    "\n",
    "plt.legend(['10C', '15C', '50C', '100C'])\n",
    "plt.show()"
   ]
  },
  {
   "attachments": {},
   "cell_type": "markdown",
   "metadata": {},
   "source": [
    "# Compare to NeqSim Calculations"
   ]
  },
  {
   "attachments": {},
   "cell_type": "markdown",
   "metadata": {},
   "source": [
    "## NeqSim calculations at 288.15 K"
   ]
  },
  {
   "cell_type": "code",
   "execution_count": 126,
   "metadata": {},
   "outputs": [
    {
     "name": "stdout",
     "output_type": "stream",
     "text": [
      "model  CPAs-SRK-EOS-statoil\n",
      "mixing rule  classic-CPA_T\n",
      "kij  -0.27686\n",
      "kijT  0.001121\n"
     ]
    },
    {
     "data": {
      "text/plain": [
       "<Figure size 640x480 with 0 Axes>"
      ]
     },
     "metadata": {},
     "output_type": "display_data"
    },
    {
     "data": {
      "image/png": "[encoded data removed]",
      "text/plain": [
       "<Figure size 640x480 with 1 Axes>"
      ]
     },
     "metadata": {},
     "output_type": "display_data"
    }
   ],
   "source": [
    "import neqsim\n",
    "from neqsim.thermo.thermoTools import fluid, TPflash, fluidComposition,bubp\n",
    "import pandas as pd\n",
    "import numpy as np\n",
    "\n",
    "# Creating a fluid in neqsim\n",
    "fluid1 = fluid('cpa') #create a fluid using the SRK-EoS\n",
    "fluid1.addComponent('CO2', 1.0)\n",
    "fluid1.addComponent(\"water\", 1.0) \n",
    "fluid1.autoSelectMixingRule()\n",
    "fluid1.setTemperature(15.0, 'C')\n",
    "\n",
    "def solubility(pres):\n",
    "    fluid1.setPressure(pres, 'bara')\n",
    "    TPflash(fluid1)\n",
    "    return fluid1.getPhase('aqueous').getComponent('CO2').getx()\n",
    "\n",
    "pressures = data283['Pressure'].values.tolist()\n",
    "x_res = [solubility(P) for P in pressures]\n",
    "\n",
    "dataWithExperiment = data283.assign(x_CPA = x_res)\n",
    "\n",
    "print('model ', fluid1.getModelName())\n",
    "print('mixing rule ', fluid1.getMixingRuleName())\n",
    "print('kij ', fluid1.getPhase(1).getMixingRule().getBinaryInteractionParameter(0,1))\n",
    "print('kijT ', fluid1.getPhase(1).getMixingRule().getBinaryInteractionParameterT1(0,1))\n",
    "\n",
    "from matplotlib import pyplot as plt\n",
    "fig = plt.figure()\t\n",
    "plot1 = data283.plot(x='x1', y='Pressure', kind='scatter',ylabel='Pressure(bara)', xlabel='x_CO2[mol/mol]',color='black')\t\n",
    "dataWithExperiment.plot(ax=plot1, x='x_CPA', y='Pressure', kind='scatter',ylabel='Pressure(bara)', xlabel='x_CO2[mol/mol]',color='blue')\t\n",
    "plt.legend(['10C', 'CPA'])\n",
    "plt.show()"
   ]
  },
  {
   "cell_type": "code",
   "execution_count": null,
   "metadata": {},
   "outputs": [],
   "source": []
  },
  {
   "cell_type": "code",
   "execution_count": 128,
   "metadata": {},
   "outputs": [
    {
     "name": "stdout",
     "output_type": "stream",
     "text": [
      "median average deviation  10.31499590277296\n"
     ]
    },
    {
     "name": "stderr",
     "output_type": "stream",
     "text": [
      "/tmp/ipykernel_2032/691086241.py:35: FutureWarning: The 'mad' method is deprecated and will be removed in a future version. To compute the same result, you may do `(df - df.mean()).abs().mean()`.\n",
      "  print('median average deviation ', devdf.mad(axis=0))\n"
     ]
    }
   ],
   "source": [
    "import neqsim\n",
    "from neqsim.thermo.thermoTools import fluid, TPflash, fluidComposition,bubp\n",
    "import pandas as pd\n",
    "import numpy as np\n",
    "\n",
    "fluid1 = fluid('cpa')\n",
    "fluid1.addComponent('CO2', 1.0)\n",
    "fluid1.addComponent(\"water\", 1.0) \n",
    "fluid1.autoSelectMixingRule()\n",
    "fluid1.setTemperature(15.0, 'C')\n",
    "\n",
    "def solubility(inp):\n",
    "    fluid1.setPressure(inp[2], 'bara')\n",
    "    fluid1.setTemperature(inp[1], 'K')\n",
    "    try:\n",
    "        TPflash(fluid1)\n",
    "        return fluid1.getPhase('aqueous').getComponent('CO2').getx()\n",
    "    except:\n",
    "        return float('nan')\n",
    "    \n",
    "inpdata = expdata_df[['x1', 'Temperature', 'Pressure']].values.tolist()\n",
    "solres = [solubility(inp) for inp in inpdata]\n",
    "dataWithExperiment = expdata_df.assign(x_CPA = solres)\n",
    "\n",
    "devdf = (dataWithExperiment['x_CPA'] - dataWithExperiment['x1']) / dataWithExperiment['x1']*100.0\n",
    "\n",
    "dataWithExperimentAndDev = dataWithExperiment.assign(dev = devdf.values)\n",
    "\n",
    "print('median average deviation ', devdf.mad(axis=0))\n",
    "\n",
    "dataWithExperimentAndDev.to_csv('./water-CO2-exp.csv')"
   ]
  },
  {
   "attachments": {},
   "cell_type": "markdown",
   "metadata": {},
   "source": [
    "# Parameter fitting"
   ]
  },
  {
   "attachments": {},
   "cell_type": "markdown",
   "metadata": {},
   "source": [
    "## Manual fiting"
   ]
  },
  {
   "cell_type": "code",
   "execution_count": 133,
   "metadata": {},
   "outputs": [
    {
     "name": "stdout",
     "output_type": "stream",
     "text": [
      "inital parameters \n",
      "kij  -0.27686\n",
      "kijT  0.001121\n",
      "median average deviation  23.11350301175641\n"
     ]
    },
    {
     "name": "stderr",
     "output_type": "stream",
     "text": [
      "/tmp/ipykernel_2032/3061319888.py:38: FutureWarning: The 'mad' method is deprecated and will be removed in a future version. To compute the same result, you may do `(df - df.mean()).abs().mean()`.\n",
      "  print('median average deviation ', devdf.mad(axis=0))\n"
     ]
    }
   ],
   "source": [
    "import neqsim\n",
    "from neqsim.thermo.thermoTools import fluid, TPflash, fluidComposition,bubp\n",
    "import pandas as pd\n",
    "import numpy as np\n",
    "\n",
    "fluid1 = fluid('cpa')\n",
    "fluid1.addComponent('CO2', 1.0)\n",
    "fluid1.addComponent(\"water\", 1.0) \n",
    "fluid1.autoSelectMixingRule()\n",
    "fluid1.setTemperature(15.0, 'C')\n",
    "\n",
    "print('inital parameters ')\n",
    "print('kij ', fluid1.getPhase(0).getMixingRule().getBinaryInteractionParameter(0,1))\n",
    "print('kijT ', fluid1.getPhase(0).getMixingRule().getBinaryInteractionParameterT1(0,1))\n",
    "\n",
    "fluid1.getPhase(0).getMixingRule().setBinaryInteractionParameter(0,1, 0.02)\n",
    "fluid1.getPhase(1).getMixingRule().setBinaryInteractionParameter(0,1, 0.02)\n",
    "fluid1.getPhase(1).getMixingRule().setBinaryInteractionParameterT1(0,1, 0)\n",
    "fluid1.getPhase(1).getMixingRule().setBinaryInteractionParameterT1(0,1, 0)\n",
    "\n",
    "def solubility(inp):\n",
    "    fluid1.setPressure(inp[2], 'bara')\n",
    "    fluid1.setTemperature(inp[1], 'K')\n",
    "    try:\n",
    "        TPflash(fluid1)\n",
    "        return fluid1.getPhase('aqueous').getComponent('CO2').getx()\n",
    "    except:\n",
    "        return float('nan')\n",
    "    \n",
    "inpdata = expdata_df[['x1', 'Temperature', 'Pressure']].values.tolist()\n",
    "solres = [solubility(inp) for inp in inpdata]\n",
    "dataWithExperiment = expdata_df.assign(x_CPA_fitted = solres)\n",
    "\n",
    "devdf = (dataWithExperiment['x_CPA_fitted'] - dataWithExperiment['x1']) / dataWithExperiment['x1']*100.0\n",
    "\n",
    "dataWithExperimentAndDev = dataWithExperiment.assign(dev_fitted = devdf.values)\n",
    "\n",
    "print('median average deviation ', devdf.mad(axis=0))\n",
    "\n",
    "dataWithExperimentAndDev.to_csv('./water-CO2-exp-fitted.csv')"
   ]
  },
  {
   "attachments": {},
   "cell_type": "markdown",
   "metadata": {},
   "source": [
    "## Automatic fitting"
   ]
  }
 ],
 "metadata": {
  "kernelspec": {
   "display_name": "Python 3",
   "language": "python",
   "name": "python3"
  },
  "language_info": {
   "codemirror_mode": {
    "name": "ipython",
    "version": 3
   },
   "file_extension": ".py",
   "mimetype": "text/x-python",
   "name": "python",
   "nbconvert_exporter": "python",
   "pygments_lexer": "ipython3",
   "version": "3.10.4"
  },
  "orig_nbformat": 4
 },
 "nbformat": 4,
 "nbformat_minor": 2
}

{
 "cells": [
  {
   "cell_type": "code",
   "execution_count": 1,
   "metadata": {},
   "outputs": [],
   "source": [
    "%%capture\n",
    "%pip install neqsim\n",
    "\n",
    "#To check for methods in a Java object \n",
    "#from neqsim import methods"
   ]
  },
  {
   "attachments": {},
   "cell_type": "markdown",
   "metadata": {},
   "source": [
    "# Experimental data\n",
    "Experimental data for density of TEG is collected."
   ]
  },
  {
   "cell_type": "code",
   "execution_count": 2,
   "metadata": {},
   "outputs": [
    {
     "data": {
      "text/html": [
       "<div>\n",
       "<style scoped>\n",
       "    .dataframe tbody tr th:only-of-type {\n",
       "        vertical-align: middle;\n",
       "    }\n",
       "\n",
       "    .dataframe tbody tr th {\n",
       "        vertical-align: top;\n",
       "    }\n",
       "\n",
       "    .dataframe thead th {\n",
       "        text-align: right;\n",
       "    }\n",
       "</style>\n",
       "<table border=\"1\" class=\"dataframe\">\n",
       "  <thead>\n",
       "    <tr style=\"text-align: right;\">\n",
       "      <th></th>\n",
       "      <th>ID</th>\n",
       "      <th>StandardDeviation</th>\n",
       "      <th>Temperature</th>\n",
       "      <th>ComponentName</th>\n",
       "      <th>Density</th>\n",
       "      <th>Pressure</th>\n",
       "      <th>PhaseType</th>\n",
       "      <th>Reference</th>\n",
       "      <th>Unnamed: 8</th>\n",
       "      <th>Unnamed: 9</th>\n",
       "      <th>Unnamed: 10</th>\n",
       "      <th>Unnamed: 11</th>\n",
       "    </tr>\n",
       "  </thead>\n",
       "  <tbody>\n",
       "    <tr>\n",
       "      <th>0</th>\n",
       "      <td>30</td>\n",
       "      <td>11</td>\n",
       "      <td>298.15</td>\n",
       "      <td>TEG</td>\n",
       "      <td>1119.90</td>\n",
       "      <td>1.01325</td>\n",
       "      <td>liquid</td>\n",
       "      <td>Begum</td>\n",
       "      <td>NaN</td>\n",
       "      <td>NaN</td>\n",
       "      <td>NaN</td>\n",
       "      <td>NaN</td>\n",
       "    </tr>\n",
       "    <tr>\n",
       "      <th>1</th>\n",
       "      <td>31</td>\n",
       "      <td>11</td>\n",
       "      <td>303.15</td>\n",
       "      <td>TEG</td>\n",
       "      <td>1115.80</td>\n",
       "      <td>1.01325</td>\n",
       "      <td>liquid</td>\n",
       "      <td>Begum</td>\n",
       "      <td>NaN</td>\n",
       "      <td>NaN</td>\n",
       "      <td>NaN</td>\n",
       "      <td>NaN</td>\n",
       "    </tr>\n",
       "    <tr>\n",
       "      <th>2</th>\n",
       "      <td>32</td>\n",
       "      <td>11</td>\n",
       "      <td>308.15</td>\n",
       "      <td>TEG</td>\n",
       "      <td>1111.90</td>\n",
       "      <td>1.01325</td>\n",
       "      <td>liquid</td>\n",
       "      <td>Begum</td>\n",
       "      <td>NaN</td>\n",
       "      <td>NaN</td>\n",
       "      <td>NaN</td>\n",
       "      <td>NaN</td>\n",
       "    </tr>\n",
       "    <tr>\n",
       "      <th>3</th>\n",
       "      <td>33</td>\n",
       "      <td>11</td>\n",
       "      <td>313.15</td>\n",
       "      <td>TEG</td>\n",
       "      <td>1108.40</td>\n",
       "      <td>1.01325</td>\n",
       "      <td>liquid</td>\n",
       "      <td>Begum</td>\n",
       "      <td>NaN</td>\n",
       "      <td>NaN</td>\n",
       "      <td>NaN</td>\n",
       "      <td>NaN</td>\n",
       "    </tr>\n",
       "    <tr>\n",
       "      <th>4</th>\n",
       "      <td>34</td>\n",
       "      <td>11</td>\n",
       "      <td>318.15</td>\n",
       "      <td>TEG</td>\n",
       "      <td>1104.00</td>\n",
       "      <td>1.01325</td>\n",
       "      <td>liquid</td>\n",
       "      <td>Begum</td>\n",
       "      <td>NaN</td>\n",
       "      <td>NaN</td>\n",
       "      <td>NaN</td>\n",
       "      <td>NaN</td>\n",
       "    </tr>\n",
       "    <tr>\n",
       "      <th>5</th>\n",
       "      <td>35</td>\n",
       "      <td>11</td>\n",
       "      <td>323.15</td>\n",
       "      <td>TEG</td>\n",
       "      <td>1100.00</td>\n",
       "      <td>1.01325</td>\n",
       "      <td>liquid</td>\n",
       "      <td>Begum</td>\n",
       "      <td>NaN</td>\n",
       "      <td>NaN</td>\n",
       "      <td>NaN</td>\n",
       "      <td>NaN</td>\n",
       "    </tr>\n",
       "    <tr>\n",
       "      <th>6</th>\n",
       "      <td>36</td>\n",
       "      <td>11</td>\n",
       "      <td>328.14</td>\n",
       "      <td>TEG</td>\n",
       "      <td>1096.45</td>\n",
       "      <td>1.01325</td>\n",
       "      <td>liquid</td>\n",
       "      <td>Begum</td>\n",
       "      <td>NaN</td>\n",
       "      <td>NaN</td>\n",
       "      <td>NaN</td>\n",
       "      <td>NaN</td>\n",
       "    </tr>\n",
       "    <tr>\n",
       "      <th>7</th>\n",
       "      <td>37</td>\n",
       "      <td>11</td>\n",
       "      <td>338.15</td>\n",
       "      <td>TEG</td>\n",
       "      <td>1088.58</td>\n",
       "      <td>1.01325</td>\n",
       "      <td>liquid</td>\n",
       "      <td>Begum</td>\n",
       "      <td>NaN</td>\n",
       "      <td>NaN</td>\n",
       "      <td>NaN</td>\n",
       "      <td>NaN</td>\n",
       "    </tr>\n",
       "    <tr>\n",
       "      <th>8</th>\n",
       "      <td>38</td>\n",
       "      <td>11</td>\n",
       "      <td>348.14</td>\n",
       "      <td>TEG</td>\n",
       "      <td>1080.66</td>\n",
       "      <td>1.01325</td>\n",
       "      <td>liquid</td>\n",
       "      <td>Begum</td>\n",
       "      <td>NaN</td>\n",
       "      <td>NaN</td>\n",
       "      <td>NaN</td>\n",
       "      <td>NaN</td>\n",
       "    </tr>\n",
       "    <tr>\n",
       "      <th>9</th>\n",
       "      <td>39</td>\n",
       "      <td>11</td>\n",
       "      <td>358.15</td>\n",
       "      <td>TEG</td>\n",
       "      <td>1072.69</td>\n",
       "      <td>1.01325</td>\n",
       "      <td>liquid</td>\n",
       "      <td>Begum</td>\n",
       "      <td>NaN</td>\n",
       "      <td>NaN</td>\n",
       "      <td>NaN</td>\n",
       "      <td>NaN</td>\n",
       "    </tr>\n",
       "  </tbody>\n",
       "</table>\n",
       "</div>"
      ],
      "text/plain": [
       "   ID  StandardDeviation  Temperature ComponentName  Density  Pressure  \\\n",
       "0  30                 11       298.15           TEG  1119.90   1.01325   \n",
       "1  31                 11       303.15           TEG  1115.80   1.01325   \n",
       "2  32                 11       308.15           TEG  1111.90   1.01325   \n",
       "3  33                 11       313.15           TEG  1108.40   1.01325   \n",
       "4  34                 11       318.15           TEG  1104.00   1.01325   \n",
       "5  35                 11       323.15           TEG  1100.00   1.01325   \n",
       "6  36                 11       328.14           TEG  1096.45   1.01325   \n",
       "7  37                 11       338.15           TEG  1088.58   1.01325   \n",
       "8  38                 11       348.14           TEG  1080.66   1.01325   \n",
       "9  39                 11       358.15           TEG  1072.69   1.01325   \n",
       "\n",
       "  PhaseType Reference  Unnamed: 8  Unnamed: 9  Unnamed: 10  Unnamed: 11  \n",
       "0    liquid     Begum         NaN         NaN          NaN          NaN  \n",
       "1    liquid     Begum         NaN         NaN          NaN          NaN  \n",
       "2    liquid     Begum         NaN         NaN          NaN          NaN  \n",
       "3    liquid     Begum         NaN         NaN          NaN          NaN  \n",
       "4    liquid     Begum         NaN         NaN          NaN          NaN  \n",
       "5    liquid     Begum         NaN         NaN          NaN          NaN  \n",
       "6    liquid     Begum         NaN         NaN          NaN          NaN  \n",
       "7    liquid     Begum         NaN         NaN          NaN          NaN  \n",
       "8    liquid     Begum         NaN         NaN          NaN          NaN  \n",
       "9    liquid     Begum         NaN         NaN          NaN          NaN  "
      ]
     },
     "execution_count": 2,
     "metadata": {},
     "output_type": "execute_result"
    }
   ],
   "source": [
    "import pandas as pd\n",
    "expdata_df = pd.read_csv('../../../data/thermodynamics/density/TEG.csv')\n",
    "expdata_df"
   ]
  },
  {
   "cell_type": "code",
   "execution_count": 3,
   "metadata": {},
   "outputs": [
    {
     "data": {
      "text/plain": [
       "<Figure size 640x480 with 0 Axes>"
      ]
     },
     "metadata": {},
     "output_type": "display_data"
    },
    {
     "data": {
      "image/png": "[encoded data removed]",
      "text/plain": [
       "<Figure size 640x480 with 1 Axes>"
      ]
     },
     "metadata": {},
     "output_type": "display_data"
    }
   ],
   "source": [
    "from matplotlib import pyplot as plt\n",
    "fig = plt.figure()\n",
    "\n",
    "expdata_df.plot(x='Temperature', y='Density', kind='scatter',ylabel='Density(kg/m3)', xlabel='Temperature[K]',color='red')\n",
    "\n",
    "plt.show()"
   ]
  },
  {
   "attachments": {},
   "cell_type": "markdown",
   "metadata": {},
   "source": [
    "# Evaluation of experimental data\n",
    "\n",
    "In this section the experimental data will be evaluated and eventual some data sets will be removed from the set."
   ]
  },
  {
   "cell_type": "code",
   "execution_count": null,
   "metadata": {},
   "outputs": [],
   "source": []
  },
  {
   "attachments": {},
   "cell_type": "markdown",
   "metadata": {},
   "source": [
    "# Compare to NeqSim Calculations"
   ]
  },
  {
   "attachments": {},
   "cell_type": "markdown",
   "metadata": {},
   "source": [
    "## NeqSim calculations at 288.15 K"
   ]
  },
  {
   "cell_type": "code",
   "execution_count": 4,
   "metadata": {},
   "outputs": [
    {
     "name": "stdout",
     "output_type": "stream",
     "text": [
      " TC  769.5\n",
      " PC  33.13\n"
     ]
    },
    {
     "data": {
      "text/plain": [
       "<Figure size 640x480 with 0 Axes>"
      ]
     },
     "metadata": {},
     "output_type": "display_data"
    },
    {
     "data": {
      "image/png": "[encoded data removed]",
      "text/plain": [
       "<Figure size 640x480 with 1 Axes>"
      ]
     },
     "metadata": {},
     "output_type": "display_data"
    }
   ],
   "source": [
    "import neqsim\n",
    "from neqsim.thermo.thermoTools import fluid, TPflash, fluidComposition,bubp\n",
    "import pandas as pd\n",
    "import numpy as np\n",
    "\n",
    "fluid1 = fluid('cpa')\n",
    "fluid1.addComponent('TEG', 1.0)\n",
    "fluid1.setTemperature(15.0, 'C')\n",
    "fluid1.setPressure(1.0, 'bara')\n",
    "\n",
    "def density(temp):\n",
    "    fluid1.setTemperature(temp, 'K')\n",
    "    TPflash(fluid1)\n",
    "    fluid1.initProperties()\n",
    "    return fluid1.getPhase('aqueous').getDensity('kg/m3')\n",
    "\n",
    "temperatures = expdata_df['Temperature'].values.tolist()\n",
    "dens_res = [density(T) for T in temperatures]\n",
    "\n",
    "dataWithExperiment = expdata_df.assign(dens_CPA = dens_res)\n",
    "\n",
    "from matplotlib import pyplot as plt\n",
    "fig = plt.figure()\t\n",
    "plot1 = dataWithExperiment.plot(x='Temperature', y='Density', kind='scatter',ylabel='Density(kg/m3)', xlabel='Temperature[K]',color='black')\t\n",
    "dataWithExperiment.plot(ax=plot1, x='Temperature', y='dens_CPA', kind='scatter',ylabel='Density(kg/m3)', xlabel='Temperature[K]',color='blue')\t\n",
    "plt.legend(['experiment', 'CPA'])\n",
    "plt.show()"
   ]
  },
  {
   "attachments": {},
   "cell_type": "markdown",
   "metadata": {},
   "source": [
    "# Parameter fitting"
   ]
  },
  {
   "attachments": {},
   "cell_type": "markdown",
   "metadata": {},
   "source": [
    "## Manual fitting"
   ]
  },
  {
   "cell_type": "code",
   "execution_count": 12,
   "metadata": {},
   "outputs": [
    {
     "name": "stdout",
     "output_type": "stream",
     "text": [
      " TC  769.5\n",
      " PC  33.13\n",
      "Mat Cop Paramters 1  0.903477158616734 Mat Cop Paramters 2  1.514853438 Mat Cop Paramters 3  -1.86430399826\n",
      "Racket CPA  0.284542458\n",
      "vol corr T_CPA  -0.004423613\n",
      "org cpa dens  0.00014144780708717994  ,m3/mol\n",
      "volcorr = a +b(T-288.15)\n",
      "a  7.768293012351008e-06  m3/mol\n",
      "b  -0.004423613 m3/mol/K\n",
      "vol corr  7.325931712351008e-06  m3/mol\n"
     ]
    },
    {
     "data": {
      "text/plain": [
       "<Figure size 640x480 with 0 Axes>"
      ]
     },
     "metadata": {},
     "output_type": "display_data"
    },
    {
     "data": {
      "image/png": "[encoded data removed]",
      "text/plain": [
       "<Figure size 640x480 with 1 Axes>"
      ]
     },
     "metadata": {},
     "output_type": "display_data"
    }
   ],
   "source": [
    "import neqsim\n",
    "from neqsim.thermo.thermoTools import fluid, TPflash, fluidComposition,bubp\n",
    "import pandas as pd\n",
    "import numpy as np\n",
    "\n",
    "fluid1 = fluid('cpa')\n",
    "fluid1.addComponent('TEG', 1.0)\n",
    "fluid1.setTemperature(25.0, 'C')\n",
    "fluid1.setPressure(1.0, 'bara')\n",
    "#fluid1.useVolumeCorrection(False)\n",
    "print(' TC ', fluid1.getComponent('TEG').getTC())\n",
    "print(' PC ', fluid1.getComponent('TEG').getPC())\n",
    "print('Mat Cop Paramters 1 ', fluid1.getComponent('TEG').getAttractiveTerm().getParameters(0) , 'Mat Cop Paramters 2 ', fluid1.getComponent('TEG').getAttractiveTerm().getParameters(1) , 'Mat Cop Paramters 3 ', fluid1.getComponent('TEG').getAttractiveTerm().getParameters(2) )\n",
    "print('Racket CPA ' , fluid1.getPhase(0).getComponent('TEG').getRacketZCPA())\n",
    "print('vol corr T_CPA ' ,fluid1.getPhase(0).getComponent('TEG').getVolumeCorrectionT_CPA())\n",
    "TPflash(fluid1)\n",
    "#vol corr : 0.40768 * (0.29441 - this.getRacketZ()) * R * criticalTemperature / criticalPressure\n",
    "volCorr = 0.40768 * (0.29441 - fluid1.getPhase(0).getComponent('TEG').getRacketZCPA()) * 8.314 * fluid1.getPhase(0).getComponent('TEG').getTC() / fluid1.getPhase(0).getComponent('TEG').getPC()\n",
    "print('org cpa dens ', fluid1.getPhase(0).getMolarVolume()/1e5, ' ,m3/mol')\n",
    "print('volcorr = a +b(T-288.15)')\n",
    "print('a ', volCorr/1e5, ' m3/mol')\n",
    "print('b ',fluid1.getPhase(0).getComponent('TEG').getVolumeCorrectionT_CPA(), 'm3/mol/K')\n",
    "#volcorrCPA = volCorr + vol corr T * (liquidPhase.getPhase().getTemperature() - 288.15)) # molvol = molvolCPA + volcorrCPA m3/mol\n",
    "print('vol corr ', volCorr/1e5 + fluid1.getPhase(0).getComponent('TEG').getVolumeCorrectionT_CPA()*(fluid1.getTemperature('K')-288.15)/1e5, ' m3/mol')\n",
    "\n",
    "for phase in range(2):\n",
    "    fluid1.getPhase(phase).getComponent('TEG').setRacketZCPA(0.284542458)\n",
    "    fluid1.getPhase(phase).getComponent('TEG').setVolumeCorrectionT_CPA(-0.004423613)\n",
    "\n",
    "def density(temp):\n",
    "    fluid1.setTemperature(temp, 'K')\n",
    "    TPflash(fluid1)\n",
    "    fluid1.initProperties()\n",
    "    return fluid1.getPhase('aqueous').getDensity('kg/m3')\n",
    "\n",
    "temperatures = expdata_df['Temperature'].values.tolist()\n",
    "dens_res = [density(T) for T in temperatures]\n",
    "\n",
    "dataWithExperiment = expdata_df.assign(dens_CPA = dens_res)\n",
    "\n",
    "from matplotlib import pyplot as plt\n",
    "fig = plt.figure()\t\n",
    "plot1 = dataWithExperiment.plot(x='Temperature', y='Density', kind='scatter',ylabel='Density(kg/m3)', xlabel='Temperature[K]',color='black')\t\n",
    "dataWithExperiment.plot(ax=plot1, x='Temperature', y='dens_CPA', kind='scatter',ylabel='Density(kg/m3)', xlabel='Temperature[K]',color='blue')\t\n",
    "plt.legend(['experiment', 'CPA'])\n",
    "plt.show()"
   ]
  },
  {
   "attachments": {},
   "cell_type": "markdown",
   "metadata": {},
   "source": [
    "## Automatic fitting"
   ]
  }
 ],
 "metadata": {
  "kernelspec": {
   "display_name": "Python 3",
   "language": "python",
   "name": "python3"
  },
  "language_info": {
   "codemirror_mode": {
    "name": "ipython",
    "version": 3
   },
   "file_extension": ".py",
   "mimetype": "text/x-python",
   "name": "python",
   "nbconvert_exporter": "python",
   "pygments_lexer": "ipython3",
   "version": "3.10.4"
  },
  "orig_nbformat": 4
 },
 "nbformat": 4,
 "nbformat_minor": 2
}

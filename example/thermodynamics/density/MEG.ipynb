{
 "cells": [
  {
   "cell_type": "code",
   "execution_count": 1,
   "metadata": {},
   "outputs": [],
   "source": [
    "%%capture\n",
    "%pip install neqsim\n",
    "\n",
    "#To check for methods in a Java object \n",
    "#from neqsim import methods"
   ]
  },
  {
   "attachments": {},
   "cell_type": "markdown",
   "metadata": {},
   "source": [
    "# Experimental data\n",
    "Experimental data for density of MEG is collected."
   ]
  },
  {
   "cell_type": "code",
   "execution_count": 2,
   "metadata": {},
   "outputs": [
    {
     "data": {
      "text/html": [
       "<div>\n",
       "<style scoped>\n",
       "    .dataframe tbody tr th:only-of-type {\n",
       "        vertical-align: middle;\n",
       "    }\n",
       "\n",
       "    .dataframe tbody tr th {\n",
       "        vertical-align: top;\n",
       "    }\n",
       "\n",
       "    .dataframe thead th {\n",
       "        text-align: right;\n",
       "    }\n",
       "</style>\n",
       "<table border=\"1\" class=\"dataframe\">\n",
       "  <thead>\n",
       "    <tr style=\"text-align: right;\">\n",
       "      <th></th>\n",
       "      <th>ID</th>\n",
       "      <th>StandardDeviation</th>\n",
       "      <th>Temperature</th>\n",
       "      <th>ComponentName</th>\n",
       "      <th>Density</th>\n",
       "      <th>Pressure</th>\n",
       "      <th>PhaseType</th>\n",
       "      <th>Reference</th>\n",
       "    </tr>\n",
       "  </thead>\n",
       "  <tbody>\n",
       "    <tr>\n",
       "      <th>0</th>\n",
       "      <td>40</td>\n",
       "      <td>11</td>\n",
       "      <td>278.15</td>\n",
       "      <td>MEG</td>\n",
       "      <td>1123.77</td>\n",
       "      <td>1.01325</td>\n",
       "      <td>liquid</td>\n",
       "      <td>Egorov</td>\n",
       "    </tr>\n",
       "    <tr>\n",
       "      <th>1</th>\n",
       "      <td>41</td>\n",
       "      <td>11</td>\n",
       "      <td>288.15</td>\n",
       "      <td>MEG</td>\n",
       "      <td>1116.83</td>\n",
       "      <td>1.01325</td>\n",
       "      <td>liquid</td>\n",
       "      <td>Egorov</td>\n",
       "    </tr>\n",
       "    <tr>\n",
       "      <th>2</th>\n",
       "      <td>42</td>\n",
       "      <td>11</td>\n",
       "      <td>298.15</td>\n",
       "      <td>MEG</td>\n",
       "      <td>1109.83</td>\n",
       "      <td>1.01325</td>\n",
       "      <td>liquid</td>\n",
       "      <td>Egorov</td>\n",
       "    </tr>\n",
       "    <tr>\n",
       "      <th>3</th>\n",
       "      <td>43</td>\n",
       "      <td>11</td>\n",
       "      <td>308.15</td>\n",
       "      <td>MEG</td>\n",
       "      <td>1102.81</td>\n",
       "      <td>1.01325</td>\n",
       "      <td>liquid</td>\n",
       "      <td>Egorov</td>\n",
       "    </tr>\n",
       "    <tr>\n",
       "      <th>4</th>\n",
       "      <td>44</td>\n",
       "      <td>11</td>\n",
       "      <td>323.15</td>\n",
       "      <td>MEG</td>\n",
       "      <td>1092.12</td>\n",
       "      <td>1.01325</td>\n",
       "      <td>liquid</td>\n",
       "      <td>Egorov</td>\n",
       "    </tr>\n",
       "    <tr>\n",
       "      <th>5</th>\n",
       "      <td>45</td>\n",
       "      <td>11</td>\n",
       "      <td>366.00</td>\n",
       "      <td>MEG</td>\n",
       "      <td>1084.00</td>\n",
       "      <td>1.01325</td>\n",
       "      <td>liquid</td>\n",
       "      <td>Egorov</td>\n",
       "    </tr>\n",
       "  </tbody>\n",
       "</table>\n",
       "</div>"
      ],
      "text/plain": [
       "   ID  StandardDeviation  Temperature ComponentName  Density  Pressure  \\\n",
       "0  40                 11       278.15           MEG  1123.77   1.01325   \n",
       "1  41                 11       288.15           MEG  1116.83   1.01325   \n",
       "2  42                 11       298.15           MEG  1109.83   1.01325   \n",
       "3  43                 11       308.15           MEG  1102.81   1.01325   \n",
       "4  44                 11       323.15           MEG  1092.12   1.01325   \n",
       "5  45                 11       366.00           MEG  1084.00   1.01325   \n",
       "\n",
       "  PhaseType Reference  \n",
       "0    liquid    Egorov  \n",
       "1    liquid    Egorov  \n",
       "2    liquid    Egorov  \n",
       "3    liquid    Egorov  \n",
       "4    liquid    Egorov  \n",
       "5    liquid    Egorov  "
      ]
     },
     "execution_count": 2,
     "metadata": {},
     "output_type": "execute_result"
    }
   ],
   "source": [
    "import pandas as pd\n",
    "expdata_df = pd.read_csv('../../../data/thermodynamics/density/MEG.csv')\n",
    "expdata_df"
   ]
  },
  {
   "cell_type": "code",
   "execution_count": 3,
   "metadata": {},
   "outputs": [
    {
     "data": {
      "text/plain": [
       "<Figure size 640x480 with 0 Axes>"
      ]
     },
     "metadata": {},
     "output_type": "display_data"
    },
    {
     "data": {
      "image/png": "[encoded data removed]",
      "text/plain": [
       "<Figure size 640x480 with 1 Axes>"
      ]
     },
     "metadata": {},
     "output_type": "display_data"
    }
   ],
   "source": [
    "from matplotlib import pyplot as plt\n",
    "fig = plt.figure()\n",
    "\n",
    "expdata_df.plot(x='Temperature', y='Density', kind='scatter',ylabel='Density(kg/m3)', xlabel='Temperature[K]',color='red')\n",
    "\n",
    "plt.show()"
   ]
  },
  {
   "attachments": {},
   "cell_type": "markdown",
   "metadata": {},
   "source": [
    "# Evaluation of experimental data\n",
    "\n",
    "In this section the experimental data will be evaluated and eventual some data sets will be removed from the set."
   ]
  },
  {
   "cell_type": "code",
   "execution_count": null,
   "metadata": {},
   "outputs": [],
   "source": []
  },
  {
   "attachments": {},
   "cell_type": "markdown",
   "metadata": {},
   "source": [
    "# Compare to NeqSim Calculations"
   ]
  },
  {
   "attachments": {},
   "cell_type": "markdown",
   "metadata": {},
   "source": [
    "## NeqSim calculations at 288.15 K"
   ]
  },
  {
   "cell_type": "code",
   "execution_count": 4,
   "metadata": {},
   "outputs": [
    {
     "data": {
      "text/plain": [
       "<Figure size 640x480 with 0 Axes>"
      ]
     },
     "metadata": {},
     "output_type": "display_data"
    },
    {
     "data": {
      "image/png": "[encoded data removed]",
      "text/plain": [
       "<Figure size 640x480 with 1 Axes>"
      ]
     },
     "metadata": {},
     "output_type": "display_data"
    }
   ],
   "source": [
    "import neqsim\n",
    "from neqsim.thermo.thermoTools import fluid, TPflash, fluidComposition,bubp\n",
    "import pandas as pd\n",
    "import numpy as np\n",
    "\n",
    "fluid1 = fluid('cpa')\n",
    "fluid1.addComponent('MEG', 1.0)\n",
    "fluid1.setTemperature(15.0, 'C')\n",
    "fluid1.setPressure(1.0, 'bara')\n",
    "\n",
    "def density(temp):\n",
    "    fluid1.setTemperature(temp, 'K')\n",
    "    TPflash(fluid1)\n",
    "    fluid1.initProperties()\n",
    "    return fluid1.getPhase('aqueous').getDensity('kg/m3')\n",
    "\n",
    "temperatures = expdata_df['Temperature'].values.tolist()\n",
    "dens_res = [density(T) for T in temperatures]\n",
    "\n",
    "dataWithExperiment = expdata_df.assign(dens_CPA = dens_res)\n",
    "\n",
    "from matplotlib import pyplot as plt\n",
    "fig = plt.figure()\t\n",
    "plot1 = dataWithExperiment.plot(x='Temperature', y='Density', kind='scatter',ylabel='Density(kg/m3)', xlabel='Temperature[K]',color='black')\t\n",
    "dataWithExperiment.plot(ax=plot1, x='Temperature', y='dens_CPA', kind='scatter',ylabel='Density(kg/m3)', xlabel='Temperature[K]',color='blue')\t\n",
    "plt.legend(['experiment', 'CPA'])\n",
    "plt.show()"
   ]
  },
  {
   "attachments": {},
   "cell_type": "markdown",
   "metadata": {},
   "source": [
    "# Parameter fitting"
   ]
  },
  {
   "attachments": {},
   "cell_type": "markdown",
   "metadata": {},
   "source": [
    "## Manual fitting"
   ]
  },
  {
   "cell_type": "code",
   "execution_count": 5,
   "metadata": {},
   "outputs": [
    {
     "name": "stdout",
     "output_type": "stream",
     "text": [
      " TC  720.0\n",
      " PC  90.0\n",
      "Mat Cop Paramters 1  0.6743999999999983 Mat Cop Paramters 2  0.0 Mat Cop Paramters 3  0.0\n",
      "Racket CPA  0.288384169\n",
      "vol corr T_CPA  0.000389127\n",
      "org cpa dens  6.0542386742340766e-05  ,m3/mol\n",
      "volcorr = a +b(T-288.15)\n",
      "a  1.6339409633770446e-06  m3/mol\n",
      "b  3.89127e-09 m3/mol/K\n",
      "vol corr  2.0619806633770446e-06  m3/mol\n"
     ]
    },
    {
     "data": {
      "text/plain": [
       "<Figure size 640x480 with 0 Axes>"
      ]
     },
     "metadata": {},
     "output_type": "display_data"
    },
    {
     "data": {
      "image/png": "[encoded data removed]",
      "text/plain": [
       "<Figure size 640x480 with 1 Axes>"
      ]
     },
     "metadata": {},
     "output_type": "display_data"
    }
   ],
   "source": [
    "import neqsim\n",
    "from neqsim.thermo.thermoTools import fluid, TPflash, fluidComposition,bubp\n",
    "import pandas as pd\n",
    "import numpy as np\n",
    "\n",
    "fluid1 = fluid('cpa')\n",
    "fluid1.addComponent('MEG', 1.0)\n",
    "fluid1.setTemperature(125.0, 'C')\n",
    "fluid1.setPressure(1.0, 'bara')\n",
    "#fluid1.useVolumeCorrection(False)\n",
    "print(' TC ', fluid1.getComponent('MEG').getTC())\n",
    "print(' PC ', fluid1.getComponent('MEG').getPC())\n",
    "print('Mat Cop Paramters 1 ', fluid1.getComponent('MEG').getAttractiveTerm().getParameters(0) , 'Mat Cop Paramters 2 ', fluid1.getComponent('MEG').getAttractiveTerm().getParameters(1) , 'Mat Cop Paramters 3 ', fluid1.getComponent('MEG').getAttractiveTerm().getParameters(2) )\n",
    "\n",
    "print('Racket CPA ' , fluid1.getPhase(0).getComponent('MEG').getRacketZCPA())\n",
    "print('vol corr T_CPA ' ,fluid1.getPhase(0).getComponent('MEG').getVolumeCorrectionT_CPA())\n",
    "TPflash(fluid1)\n",
    "volCorr = 0.40768 * (0.29441 - fluid1.getPhase(0).getComponent('MEG').getRacketZCPA()) * 8.314 * fluid1.getPhase(0).getComponent('MEG').getTC() / fluid1.getPhase(0).getComponent('MEG').getPC()\n",
    "print('org cpa dens ', fluid1.getPhase(0).getMolarVolume()/1e5, ' ,m3/mol')\n",
    "print('volcorr = a +b(T-288.15)')\n",
    "print('a ', volCorr/1e5, ' m3/mol')\n",
    "print('b ',fluid1.getPhase(0).getComponent('MEG').getVolumeCorrectionT_CPA()/1e5, 'm3/mol/K')\n",
    "#volcorrCPA = volCorr + vol corr T * (liquidPhase.getPhase().getTemperature() - 288.15)) # molvol = molvolCPA + volcorrCPA m3/mol\n",
    "print('vol corr ', volCorr/1e5 + fluid1.getPhase(0).getComponent('MEG').getVolumeCorrectionT_CPA()*(fluid1.getTemperature('K')-288.15)/1e5, ' m3/mol')\n",
    "\n",
    "#for phase in range(2):\n",
    "    #fluid1.getPhase(phase).getComponent('MEG').setRacketZCPA(0.2883841)\n",
    "    #fluid1.getPhase(phase).getComponent('MEG').setVolumeCorrectionT_CPA(0.000389127)\n",
    "\n",
    "def density(temp):\n",
    "    fluid1.setTemperature(temp, 'K')\n",
    "    TPflash(fluid1)\n",
    "    fluid1.initProperties()\n",
    "    return fluid1.getPhase('aqueous').getDensity('kg/m3')\n",
    "\n",
    "temperatures = expdata_df['Temperature'].values.tolist()\n",
    "dens_res = [density(T) for T in temperatures]\n",
    "\n",
    "dataWithExperiment = expdata_df.assign(dens_CPA = dens_res)\n",
    "\n",
    "from matplotlib import pyplot as plt\n",
    "fig = plt.figure()\t\n",
    "plot1 = dataWithExperiment.plot(x='Temperature', y='Density', kind='scatter',ylabel='Density(kg/m3)', xlabel='Temperature[K]',color='black')\t\n",
    "dataWithExperiment.plot(ax=plot1, x='Temperature', y='dens_CPA', kind='scatter',ylabel='Density(kg/m3)', xlabel='Temperature[K]',color='blue')\t\n",
    "plt.legend(['experiment', 'CPA'])\n",
    "plt.show()"
   ]
  },
  {
   "attachments": {},
   "cell_type": "markdown",
   "metadata": {},
   "source": [
    "## Automatic fitting"
   ]
  }
 ],
 "metadata": {
  "kernelspec": {
   "display_name": "Python 3",
   "language": "python",
   "name": "python3"
  },
  "language_info": {
   "codemirror_mode": {
    "name": "ipython",
    "version": 3
   },
   "file_extension": ".py",
   "mimetype": "text/x-python",
   "name": "python",
   "nbconvert_exporter": "python",
   "pygments_lexer": "ipython3",
   "version": "3.10.8"
  },
  "orig_nbformat": 4
 },
 "nbformat": 4,
 "nbformat_minor": 2
}

{
 "cells": [
  {
   "cell_type": "code",
   "execution_count": 1,
   "metadata": {},
   "outputs": [],
   "source": [
    "%%capture\n",
    "%pip install neqsim\n",
    "\n",
    "#To check for methods in a Java object \n",
    "#from neqsim import methods"
   ]
  },
  {
   "attachments": {},
   "cell_type": "markdown",
   "metadata": {},
   "source": [
    "# Experimental data\n",
    "Experimental data for density is collected."
   ]
  },
  {
   "cell_type": "code",
   "execution_count": 2,
   "metadata": {},
   "outputs": [
    {
     "data": {
      "text/html": [
       "<div>\n",
       "<style scoped>\n",
       "    .dataframe tbody tr th:only-of-type {\n",
       "        vertical-align: middle;\n",
       "    }\n",
       "\n",
       "    .dataframe tbody tr th {\n",
       "        vertical-align: top;\n",
       "    }\n",
       "\n",
       "    .dataframe thead th {\n",
       "        text-align: right;\n",
       "    }\n",
       "</style>\n",
       "<table border=\"1\" class=\"dataframe\">\n",
       "  <thead>\n",
       "    <tr style=\"text-align: right;\">\n",
       "      <th></th>\n",
       "      <th>ID</th>\n",
       "      <th>StandardDeviation</th>\n",
       "      <th>Temperature</th>\n",
       "      <th>ComponentName</th>\n",
       "      <th>Density</th>\n",
       "      <th>Pressure</th>\n",
       "      <th>PhaseType</th>\n",
       "      <th>Reference</th>\n",
       "    </tr>\n",
       "  </thead>\n",
       "  <tbody>\n",
       "    <tr>\n",
       "      <th>0</th>\n",
       "      <td>20</td>\n",
       "      <td>10</td>\n",
       "      <td>273.15</td>\n",
       "      <td>water</td>\n",
       "      <td>999.839</td>\n",
       "      <td>1.01325</td>\n",
       "      <td>liquid</td>\n",
       "      <td>Perry1998</td>\n",
       "    </tr>\n",
       "    <tr>\n",
       "      <th>1</th>\n",
       "      <td>21</td>\n",
       "      <td>10</td>\n",
       "      <td>274.15</td>\n",
       "      <td>water</td>\n",
       "      <td>999.898</td>\n",
       "      <td>1.01325</td>\n",
       "      <td>liquid</td>\n",
       "      <td>Perry1998</td>\n",
       "    </tr>\n",
       "    <tr>\n",
       "      <th>2</th>\n",
       "      <td>22</td>\n",
       "      <td>10</td>\n",
       "      <td>278.15</td>\n",
       "      <td>water</td>\n",
       "      <td>999.964</td>\n",
       "      <td>1.01325</td>\n",
       "      <td>liquid</td>\n",
       "      <td>Perry1998</td>\n",
       "    </tr>\n",
       "    <tr>\n",
       "      <th>3</th>\n",
       "      <td>23</td>\n",
       "      <td>10</td>\n",
       "      <td>283.15</td>\n",
       "      <td>water</td>\n",
       "      <td>999.699</td>\n",
       "      <td>1.01325</td>\n",
       "      <td>liquid</td>\n",
       "      <td>Perry1998</td>\n",
       "    </tr>\n",
       "    <tr>\n",
       "      <th>4</th>\n",
       "      <td>24</td>\n",
       "      <td>10</td>\n",
       "      <td>293.15</td>\n",
       "      <td>water</td>\n",
       "      <td>998.204</td>\n",
       "      <td>1.01325</td>\n",
       "      <td>liquid</td>\n",
       "      <td>Perry1998</td>\n",
       "    </tr>\n",
       "    <tr>\n",
       "      <th>5</th>\n",
       "      <td>25</td>\n",
       "      <td>10</td>\n",
       "      <td>303.15</td>\n",
       "      <td>water</td>\n",
       "      <td>995.647</td>\n",
       "      <td>1.01325</td>\n",
       "      <td>liquid</td>\n",
       "      <td>Perry1998</td>\n",
       "    </tr>\n",
       "    <tr>\n",
       "      <th>6</th>\n",
       "      <td>26</td>\n",
       "      <td>10</td>\n",
       "      <td>313.15</td>\n",
       "      <td>water</td>\n",
       "      <td>992.215</td>\n",
       "      <td>1.01325</td>\n",
       "      <td>liquid</td>\n",
       "      <td>Perry1998</td>\n",
       "    </tr>\n",
       "    <tr>\n",
       "      <th>7</th>\n",
       "      <td>27</td>\n",
       "      <td>10</td>\n",
       "      <td>323.15</td>\n",
       "      <td>water</td>\n",
       "      <td>988.037</td>\n",
       "      <td>1.01325</td>\n",
       "      <td>liquid</td>\n",
       "      <td>Perry1998</td>\n",
       "    </tr>\n",
       "    <tr>\n",
       "      <th>8</th>\n",
       "      <td>28</td>\n",
       "      <td>10</td>\n",
       "      <td>333.15</td>\n",
       "      <td>water</td>\n",
       "      <td>983.200</td>\n",
       "      <td>1.01325</td>\n",
       "      <td>liquid</td>\n",
       "      <td>Perry1998</td>\n",
       "    </tr>\n",
       "    <tr>\n",
       "      <th>9</th>\n",
       "      <td>29</td>\n",
       "      <td>10</td>\n",
       "      <td>343.15</td>\n",
       "      <td>water</td>\n",
       "      <td>977.771</td>\n",
       "      <td>1.01325</td>\n",
       "      <td>liquid</td>\n",
       "      <td>Perry1998</td>\n",
       "    </tr>\n",
       "  </tbody>\n",
       "</table>\n",
       "</div>"
      ],
      "text/plain": [
       "   ID  StandardDeviation  Temperature ComponentName  Density  Pressure  \\\n",
       "0  20                 10       273.15         water  999.839   1.01325   \n",
       "1  21                 10       274.15         water  999.898   1.01325   \n",
       "2  22                 10       278.15         water  999.964   1.01325   \n",
       "3  23                 10       283.15         water  999.699   1.01325   \n",
       "4  24                 10       293.15         water  998.204   1.01325   \n",
       "5  25                 10       303.15         water  995.647   1.01325   \n",
       "6  26                 10       313.15         water  992.215   1.01325   \n",
       "7  27                 10       323.15         water  988.037   1.01325   \n",
       "8  28                 10       333.15         water  983.200   1.01325   \n",
       "9  29                 10       343.15         water  977.771   1.01325   \n",
       "\n",
       "  PhaseType  Reference  \n",
       "0    liquid  Perry1998  \n",
       "1    liquid  Perry1998  \n",
       "2    liquid  Perry1998  \n",
       "3    liquid  Perry1998  \n",
       "4    liquid  Perry1998  \n",
       "5    liquid  Perry1998  \n",
       "6    liquid  Perry1998  \n",
       "7    liquid  Perry1998  \n",
       "8    liquid  Perry1998  \n",
       "9    liquid  Perry1998  "
      ]
     },
     "execution_count": 2,
     "metadata": {},
     "output_type": "execute_result"
    }
   ],
   "source": [
    "import pandas as pd\n",
    "expdata_df = pd.read_csv('../../../data/thermodynamics/density/water.csv')\n",
    "expdata_df"
   ]
  },
  {
   "cell_type": "code",
   "execution_count": 3,
   "metadata": {},
   "outputs": [
    {
     "data": {
      "text/plain": [
       "<Figure size 640x480 with 0 Axes>"
      ]
     },
     "metadata": {},
     "output_type": "display_data"
    },
    {
     "data": {
      "image/png": "[encoded data removed]",
      "text/plain": [
       "<Figure size 640x480 with 1 Axes>"
      ]
     },
     "metadata": {},
     "output_type": "display_data"
    }
   ],
   "source": [
    "from matplotlib import pyplot as plt\n",
    "fig = plt.figure()\n",
    "\n",
    "expdata_df.plot(x='Temperature', y='Density', kind='scatter',ylabel='Density(kg/m3)', xlabel='Temperature[K]',color='red')\n",
    "\n",
    "plt.show()"
   ]
  },
  {
   "attachments": {},
   "cell_type": "markdown",
   "metadata": {},
   "source": [
    "# Evaluation of experimental data\n",
    "\n",
    "In this section the experimental data will be evaluated and eventual some data sets will be removed from the set."
   ]
  },
  {
   "cell_type": "code",
   "execution_count": null,
   "metadata": {},
   "outputs": [],
   "source": []
  },
  {
   "attachments": {},
   "cell_type": "markdown",
   "metadata": {},
   "source": [
    "# Compare to NeqSim Calculations"
   ]
  },
  {
   "attachments": {},
   "cell_type": "markdown",
   "metadata": {},
   "source": [
    "## NeqSim calculations at 288.15 K"
   ]
  },
  {
   "cell_type": "code",
   "execution_count": 10,
   "metadata": {},
   "outputs": [
    {
     "data": {
      "text/plain": [
       "<Figure size 640x480 with 0 Axes>"
      ]
     },
     "metadata": {},
     "output_type": "display_data"
    },
    {
     "data": {
      "image/png": "[encoded data removed]",
      "text/plain": [
       "<Figure size 640x480 with 1 Axes>"
      ]
     },
     "metadata": {},
     "output_type": "display_data"
    }
   ],
   "source": [
    "import neqsim\n",
    "from neqsim.thermo.thermoTools import fluid, TPflash, fluidComposition,bubp\n",
    "import pandas as pd\n",
    "import numpy as np\n",
    "\n",
    "fluid1 = fluid('cpa')\n",
    "fluid1.addComponent('water', 1.0)\n",
    "fluid1.setTemperature(15.0, 'C')\n",
    "fluid1.setPressure(1.0, 'bara')\n",
    "\n",
    "def density(temp):\n",
    "    fluid1.setTemperature(temp, 'K')\n",
    "    TPflash(fluid1)\n",
    "    fluid1.initProperties()\n",
    "    return fluid1.getPhase('aqueous').getDensity('kg/m3')\n",
    "\n",
    "temperatures = expdata_df['Temperature'].values.tolist()\n",
    "dens_res = [density(T) for T in temperatures]\n",
    "\n",
    "dataWithExperiment = expdata_df.assign(dens_CPA = dens_res)\n",
    "\n",
    "from matplotlib import pyplot as plt\n",
    "fig = plt.figure()\t\n",
    "plot1 = dataWithExperiment.plot(x='Temperature', y='Density', kind='scatter',ylabel='Density(kg/m3)', xlabel='Temperature[K]',color='black')\t\n",
    "dataWithExperiment.plot(ax=plot1, x='Temperature', y='dens_CPA', kind='scatter',ylabel='Density(kg/m3)', xlabel='Temperature[K]',color='blue')\t\n",
    "plt.legend(['experiment', 'CPA'])\n",
    "plt.show()"
   ]
  },
  {
   "attachments": {},
   "cell_type": "markdown",
   "metadata": {},
   "source": [
    "# Parameter fitting"
   ]
  },
  {
   "attachments": {},
   "cell_type": "markdown",
   "metadata": {},
   "source": [
    "## Manual fitting"
   ]
  },
  {
   "cell_type": "code",
   "execution_count": 11,
   "metadata": {},
   "outputs": [
    {
     "name": "stdout",
     "output_type": "stream",
     "text": [
      "Racket CPA  0.296941807\n",
      "vol corr T_CPA  0.000718744\n",
      "vol corr  -2.514719645431966e-07  m3/mol  cpa_org  1.7925978979054823e-05  ,3/mol\n",
      "vol corr T  7.18744e-08  m3/mol\n"
     ]
    },
    {
     "data": {
      "text/plain": [
       "<Figure size 640x480 with 0 Axes>"
      ]
     },
     "metadata": {},
     "output_type": "display_data"
    },
    {
     "data": {
      "image/png": "[encoded data removed]",
      "text/plain": [
       "<Figure size 640x480 with 1 Axes>"
      ]
     },
     "metadata": {},
     "output_type": "display_data"
    }
   ],
   "source": [
    "import neqsim\n",
    "from neqsim.thermo.thermoTools import fluid, TPflash, fluidComposition,bubp\n",
    "import pandas as pd\n",
    "import numpy as np\n",
    "\n",
    "fluid1 = fluid('cpa')\n",
    "fluid1.addComponent('water', 1.0)\n",
    "fluid1.setTemperature(25.0, 'C')\n",
    "fluid1.setPressure(1.0, 'bara')\n",
    "#fluid1.useVolumeCorrection(False)\n",
    "print('Racket CPA ' , fluid1.getPhase(0).getComponent('water').getRacketZCPA())\n",
    "print('vol corr T_CPA ' ,fluid1.getPhase(0).getComponent('water').getVolumeCorrectionT_CPA())\n",
    "TPflash(fluid1)\n",
    "#vol corr : 0.40768 * (0.29441 - this.getRacketZ()) * R * criticalTemperature / criticalPressure\n",
    "volCorr = 0.40768 * (0.29441 - fluid1.getPhase(0).getComponent('water').getRacketZCPA()) * 8.314 * fluid1.getPhase(0).getComponent('water').getTC() / fluid1.getPhase(0).getComponent('water').getPC()\n",
    "print('vol corr ', volCorr/1e5, ' m3/mol', ' cpa_org ', fluid1.getPhase(0).getMolarVolume()/1e5, ' ,3/mol')\n",
    "#volcorrCPA = volCorr + vol corr T * (liquidPhase.getPhase().getTemperature() - 288.15)) # molvol = molvolCPA + volcorrCPA m3/mol\n",
    "print('vol corr T ', fluid1.getPhase(0).getComponent('water').getVolumeCorrectionT_CPA()*(fluid1.getTemperature('K')-288.15)/1e5, ' m3/mol')\n",
    "\n",
    "#for phase in range(2):\n",
    "    #fluid1.getPhase(phase).getComponent('water').setRacketZCPA(0.284542458)\n",
    "    #fluid1.getPhase(phase).getComponent('water').setVolumeCorrectionT_CPA(-0.004423613)\n",
    "\n",
    "def density(temp):\n",
    "    fluid1.setTemperature(temp, 'K')\n",
    "    TPflash(fluid1)\n",
    "    fluid1.initProperties()\n",
    "    return fluid1.getPhase('aqueous').getDensity('kg/m3')\n",
    "\n",
    "temperatures = expdata_df['Temperature'].values.tolist()\n",
    "dens_res = [density(T) for T in temperatures]\n",
    "\n",
    "dataWithExperiment = expdata_df.assign(dens_CPA = dens_res)\n",
    "\n",
    "from matplotlib import pyplot as plt\n",
    "fig = plt.figure()\t\n",
    "plot1 = dataWithExperiment.plot(x='Temperature', y='Density', kind='scatter',ylabel='Density(kg/m3)', xlabel='Temperature[K]',color='black')\t\n",
    "dataWithExperiment.plot(ax=plot1, x='Temperature', y='dens_CPA', kind='scatter',ylabel='Density(kg/m3)', xlabel='Temperature[K]',color='blue')\t\n",
    "plt.legend(['experiment', 'CPA'])\n",
    "plt.show()"
   ]
  },
  {
   "attachments": {},
   "cell_type": "markdown",
   "metadata": {},
   "source": [
    "## Automatic fitting"
   ]
  }
 ],
 "metadata": {
  "kernelspec": {
   "display_name": "Python 3",
   "language": "python",
   "name": "python3"
  },
  "language_info": {
   "codemirror_mode": {
    "name": "ipython",
    "version": 3
   },
   "file_extension": ".py",
   "mimetype": "text/x-python",
   "name": "python",
   "nbconvert_exporter": "python",
   "pygments_lexer": "ipython3",
   "version": "3.10.4"
  },
  "orig_nbformat": 4
 },
 "nbformat": 4,
 "nbformat_minor": 2
}

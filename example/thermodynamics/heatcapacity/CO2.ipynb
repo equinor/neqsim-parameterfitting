{
 "cells": [
  {
   "cell_type": "code",
   "execution_count": 1,
   "metadata": {},
   "outputs": [],
   "source": [
    "%%capture\n",
    "%pip install neqsim\n",
    "\n",
    "#To check for methods in a Java object \n",
    "#from neqsim import methods"
   ]
  },
  {
   "attachments": {},
   "cell_type": "markdown",
   "metadata": {},
   "source": [
    "# Experimental data\n",
    "Experimental data is collected."
   ]
  },
  {
   "cell_type": "code",
   "execution_count": 2,
   "metadata": {},
   "outputs": [
    {
     "data": {
      "text/html": [
       "<div>\n",
       "<style scoped>\n",
       "    .dataframe tbody tr th:only-of-type {\n",
       "        vertical-align: middle;\n",
       "    }\n",
       "\n",
       "    .dataframe tbody tr th {\n",
       "        vertical-align: top;\n",
       "    }\n",
       "\n",
       "    .dataframe thead th {\n",
       "        text-align: right;\n",
       "    }\n",
       "</style>\n",
       "<table border=\"1\" class=\"dataframe\">\n",
       "  <thead>\n",
       "    <tr style=\"text-align: right;\">\n",
       "      <th></th>\n",
       "      <th>Temperature (K)</th>\n",
       "      <th>Cp (J/mol*K)</th>\n",
       "    </tr>\n",
       "  </thead>\n",
       "  <tbody>\n",
       "    <tr>\n",
       "      <th>0</th>\n",
       "      <td>298</td>\n",
       "      <td>37.12</td>\n",
       "    </tr>\n",
       "    <tr>\n",
       "      <th>1</th>\n",
       "      <td>300</td>\n",
       "      <td>37.22</td>\n",
       "    </tr>\n",
       "    <tr>\n",
       "      <th>2</th>\n",
       "      <td>400</td>\n",
       "      <td>41.34</td>\n",
       "    </tr>\n",
       "    <tr>\n",
       "      <th>3</th>\n",
       "      <td>500</td>\n",
       "      <td>44.61</td>\n",
       "    </tr>\n",
       "    <tr>\n",
       "      <th>4</th>\n",
       "      <td>600</td>\n",
       "      <td>47.32</td>\n",
       "    </tr>\n",
       "    <tr>\n",
       "      <th>5</th>\n",
       "      <td>700</td>\n",
       "      <td>49.57</td>\n",
       "    </tr>\n",
       "    <tr>\n",
       "      <th>6</th>\n",
       "      <td>800</td>\n",
       "      <td>51.44</td>\n",
       "    </tr>\n",
       "    <tr>\n",
       "      <th>7</th>\n",
       "      <td>900</td>\n",
       "      <td>53.00</td>\n",
       "    </tr>\n",
       "    <tr>\n",
       "      <th>8</th>\n",
       "      <td>1000</td>\n",
       "      <td>54.30</td>\n",
       "    </tr>\n",
       "    <tr>\n",
       "      <th>9</th>\n",
       "      <td>1100</td>\n",
       "      <td>55.40</td>\n",
       "    </tr>\n",
       "    <tr>\n",
       "      <th>10</th>\n",
       "      <td>1200</td>\n",
       "      <td>56.35</td>\n",
       "    </tr>\n",
       "  </tbody>\n",
       "</table>\n",
       "</div>"
      ],
      "text/plain": [
       "    Temperature (K)  Cp (J/mol*K)\n",
       "0               298         37.12\n",
       "1               300         37.22\n",
       "2               400         41.34\n",
       "3               500         44.61\n",
       "4               600         47.32\n",
       "5               700         49.57\n",
       "6               800         51.44\n",
       "7               900         53.00\n",
       "8              1000         54.30\n",
       "9              1100         55.40\n",
       "10             1200         56.35"
      ]
     },
     "execution_count": 2,
     "metadata": {},
     "output_type": "execute_result"
    }
   ],
   "source": [
    "import pandas as pd\n",
    "expdata_df = pd.read_csv('../../../data/thermodynamics/heatcapacity/CO2.csv')\n",
    "expdata_df\n",
    "\n",
    "expdata_df = expdata_df.loc[expdata_df['Temperature (K)'] < 1300]\n",
    "expdata_df"
   ]
  },
  {
   "cell_type": "code",
   "execution_count": 5,
   "metadata": {},
   "outputs": [
    {
     "data": {
      "text/plain": [
       "<Figure size 640x480 with 0 Axes>"
      ]
     },
     "metadata": {},
     "output_type": "display_data"
    },
    {
     "name": "stderr",
     "output_type": "stream",
     "text": [
      "/home/codespace/.local/lib/python3.10/site-packages/IPython/core/pylabtools.py:152: UserWarning: Glyph 9 (\t) missing from current font.\n",
      "  fig.canvas.print_figure(bytes_io, **kw)\n"
     ]
    },
    {
     "data": {
      "image/png": "[encoded data removed]",
      "text/plain": [
       "<Figure size 640x480 with 1 Axes>"
      ]
     },
     "metadata": {},
     "output_type": "display_data"
    }
   ],
   "source": [
    "from matplotlib import pyplot as plt\n",
    "fig = plt.figure()\n",
    "\n",
    "expdata_df.plot(x='Temperature (K)', y='Cp (J/mol*K)', kind='scatter',ylabel='Cp\tgas(J/mol*K)', xlabel='Temperature[K]',color='red')\n",
    "\n",
    "plt.show()"
   ]
  },
  {
   "attachments": {},
   "cell_type": "markdown",
   "metadata": {},
   "source": [
    "# Evaluation of experimental data\n",
    "\n",
    "In this section the experimental data will be evaluated and eventual some data sets will be removed from the set."
   ]
  },
  {
   "cell_type": "code",
   "execution_count": null,
   "metadata": {},
   "outputs": [],
   "source": []
  },
  {
   "attachments": {},
   "cell_type": "markdown",
   "metadata": {},
   "source": [
    "# Compare to NeqSim Calculations"
   ]
  },
  {
   "attachments": {},
   "cell_type": "markdown",
   "metadata": {},
   "source": [
    "## NeqSim calculations at 288.15 K"
   ]
  },
  {
   "cell_type": "code",
   "execution_count": 6,
   "metadata": {},
   "outputs": [
    {
     "data": {
      "text/plain": [
       "<Figure size 640x480 with 0 Axes>"
      ]
     },
     "metadata": {},
     "output_type": "display_data"
    },
    {
     "data": {
      "image/png": "[encoded data removed]",
      "text/plain": [
       "<Figure size 640x480 with 1 Axes>"
      ]
     },
     "metadata": {},
     "output_type": "display_data"
    }
   ],
   "source": [
    "import neqsim\n",
    "from neqsim.thermo.thermoTools import fluid, TPflash, fluidComposition,bubp\n",
    "import pandas as pd\n",
    "import numpy as np\n",
    "\n",
    "fluid1 = fluid('srk')\n",
    "fluid1.addComponent('CO2', 1.0)\n",
    "fluid1.setTemperature(15.0, 'C')\n",
    "fluid1.setPressure(1.0, 'bara')\n",
    "\n",
    "def heatcap(input):\n",
    "    fluid1.setTemperature(input[0], 'K')\n",
    "    TPflash(fluid1)\n",
    "    fluid1.initProperties()\n",
    "    return fluid1.getPhase('gas').getCp('J/molK')\n",
    "\n",
    "temperatures = expdata_df['Temperature (K)'].values.tolist()\n",
    "expData = expdata_df['Cp (J/mol*K)'].values.tolist()\n",
    "input = zip(temperatures)\n",
    "cP_res = [heatcap(inp) for inp in input]\n",
    "\n",
    "dataWithExperiment = expdata_df.assign(cP_res = cP_res)\n",
    "\n",
    "from matplotlib import pyplot as plt\n",
    "fig = plt.figure()\t\n",
    "plot1 = dataWithExperiment.plot(x='Temperature (K)', y='Cp (J/mol*K)', kind='scatter',ylabel='Cp(kJ/kgK)', xlabel='Temperature[K]',color='black')\t\n",
    "dataWithExperiment.plot(ax=plot1, x='Temperature (K)', y='cP_res', kind='scatter',ylabel='Cp(kJ/kgK)', xlabel='Temperature[K]',color='blue')\t\n",
    "plt.legend(['experiment', 'srk'])\n",
    "plt.show()"
   ]
  },
  {
   "attachments": {},
   "cell_type": "markdown",
   "metadata": {},
   "source": [
    "# Parameter fitting\n",
    "\n",
    "NeqSim Cp calc:\n",
    "https://github.com/equinor/neqsim/blob/37680eafd43242488f5522fae4e80d50dfd4b3c0/src/main/java/neqsim/thermo/component/Component.java#L1256\n",
    "\n",
    " getCpA() + getCpB() * temperature + getCpC() * Math.pow(temperature, 2)\n",
    "        + getCpD() * Math.pow(temperature, 3) + getCpE() * Math.pow(temperature, 4);"
   ]
  },
  {
   "attachments": {},
   "cell_type": "markdown",
   "metadata": {},
   "source": [
    "## Manual fitting"
   ]
  },
  {
   "cell_type": "code",
   "execution_count": 9,
   "metadata": {},
   "outputs": [
    {
     "name": "stdout",
     "output_type": "stream",
     "text": [
      "CpA  27.095326\n",
      "CpB  0.011273784\n",
      "CpC  0.000124876\n",
      "CpD  -1.969e-07\n",
      "CpE  8.779584e-11\n"
     ]
    }
   ],
   "source": [
    "CpA = fluid1.getComponent(0).getCpA()\n",
    "CpB = fluid1.getComponent(0).getCpB()\n",
    "CpC = fluid1.getComponent(0).getCpC()\n",
    "CpD = fluid1.getComponent(0).getCpD()\n",
    "CpE = fluid1.getComponent(0).getCpE()\n",
    "\n",
    "print('CpA ', CpA)\n",
    "print('CpB ', CpB)\n",
    "print('CpC ', CpC)\n",
    "print('CpD ', CpD)\n",
    "print('CpE ', CpE)"
   ]
  },
  {
   "cell_type": "code",
   "execution_count": 10,
   "metadata": {},
   "outputs": [
    {
     "name": "stdout",
     "output_type": "stream",
     "text": [
      "[-9.57710016e-12  4.22218139e-08 -7.93039004e-05  8.23796345e-02\n",
      "  1.85830211e+01]\n",
      "CpA_fitted 18.583021051740495\n",
      "CpB_fitted 0.08237963451147419\n",
      "CpC_fitted -7.930390038368174e-05\n",
      "CpD_fitted 4.222181385638e-08\n",
      "CpE_fitted -9.577100164048891e-12\n"
     ]
    },
    {
     "data": {
      "text/plain": [
       "[<matplotlib.lines.Line2D at 0x7f4e139cc4f0>,\n",
       " <matplotlib.lines.Line2D at 0x7f4e139cc5b0>]"
      ]
     },
     "execution_count": 10,
     "metadata": {},
     "output_type": "execute_result"
    },
    {
     "data": {
      "image/png": "[encoded data removed]",
      "text/plain": [
       "<Figure size 640x480 with 1 Axes>"
      ]
     },
     "metadata": {},
     "output_type": "display_data"
    }
   ],
   "source": [
    "x = np.array(temperatures)\n",
    "y = np.array(expData)\n",
    "z = np.polyfit(x, y, 4)\n",
    "print(z)\n",
    "p = np.poly1d(z)\n",
    "\n",
    "print('CpA_fitted', p[0])\n",
    "print('CpB_fitted', p[1])\n",
    "print('CpC_fitted', p[2])\n",
    "print('CpD_fitted', p[3])\n",
    "print('CpE_fitted', p[4])\n",
    "\n",
    "xp = np.linspace(-2, 6, 100)\n",
    "plt.plot(x, y, '.', x, p(x), '-')"
   ]
  },
  {
   "attachments": {},
   "cell_type": "markdown",
   "metadata": {},
   "source": [
    "## Automatic fitting"
   ]
  }
 ],
 "metadata": {
  "kernelspec": {
   "display_name": "Python 3",
   "language": "python",
   "name": "python3"
  },
  "language_info": {
   "codemirror_mode": {
    "name": "ipython",
    "version": 3
   },
   "file_extension": ".py",
   "mimetype": "text/x-python",
   "name": "python",
   "nbconvert_exporter": "python",
   "pygments_lexer": "ipython3",
   "version": "3.10.4"
  },
  "orig_nbformat": 4
 },
 "nbformat": 4,
 "nbformat_minor": 2
}

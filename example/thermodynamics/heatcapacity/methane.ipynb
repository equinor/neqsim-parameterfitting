{
 "cells": [
  {
   "cell_type": "code",
   "execution_count": 1,
   "metadata": {},
   "outputs": [],
   "source": [
    "%%capture\n",
    "%pip install neqsim\n",
    "\n",
    "#To check for methods in a Java object \n",
    "#from neqsim import methods"
   ]
  },
  {
   "attachments": {},
   "cell_type": "markdown",
   "metadata": {},
   "source": [
    "# Experimental data\n",
    "Experimental data for TEG is collected."
   ]
  },
  {
   "cell_type": "code",
   "execution_count": 6,
   "metadata": {},
   "outputs": [
    {
     "data": {
      "text/html": [
       "<div>\n",
       "<style scoped>\n",
       "    .dataframe tbody tr th:only-of-type {\n",
       "        vertical-align: middle;\n",
       "    }\n",
       "\n",
       "    .dataframe tbody tr th {\n",
       "        vertical-align: top;\n",
       "    }\n",
       "\n",
       "    .dataframe thead th {\n",
       "        text-align: right;\n",
       "    }\n",
       "</style>\n",
       "<table border=\"1\" class=\"dataframe\">\n",
       "  <thead>\n",
       "    <tr style=\"text-align: right;\">\n",
       "      <th></th>\n",
       "      <th>ID</th>\n",
       "      <th>Cp gas(J/mol*K)</th>\n",
       "      <th>Temperature (K)</th>\n",
       "      <th>Reference</th>\n",
       "    </tr>\n",
       "  </thead>\n",
       "  <tbody>\n",
       "    <tr>\n",
       "      <th>0</th>\n",
       "      <td>1</td>\n",
       "      <td>33.51</td>\n",
       "      <td>200.00</td>\n",
       "      <td>Gurvich, Veyts, et al., 1989</td>\n",
       "    </tr>\n",
       "    <tr>\n",
       "      <th>1</th>\n",
       "      <td>2</td>\n",
       "      <td>35.69</td>\n",
       "      <td>298.15</td>\n",
       "      <td>Gurvich, Veyts, et al., 1989</td>\n",
       "    </tr>\n",
       "    <tr>\n",
       "      <th>2</th>\n",
       "      <td>3</td>\n",
       "      <td>35.76</td>\n",
       "      <td>300.00</td>\n",
       "      <td>Gurvich, Veyts, et al., 1989</td>\n",
       "    </tr>\n",
       "    <tr>\n",
       "      <th>3</th>\n",
       "      <td>4</td>\n",
       "      <td>40.63</td>\n",
       "      <td>400.00</td>\n",
       "      <td>Gurvich, Veyts, et al., 1989</td>\n",
       "    </tr>\n",
       "    <tr>\n",
       "      <th>4</th>\n",
       "      <td>5</td>\n",
       "      <td>46.63</td>\n",
       "      <td>500.00</td>\n",
       "      <td>Gurvich, Veyts, et al., 1989</td>\n",
       "    </tr>\n",
       "    <tr>\n",
       "      <th>5</th>\n",
       "      <td>6</td>\n",
       "      <td>52.74</td>\n",
       "      <td>600.00</td>\n",
       "      <td>Gurvich, Veyts, et al., 1989</td>\n",
       "    </tr>\n",
       "    <tr>\n",
       "      <th>6</th>\n",
       "      <td>7</td>\n",
       "      <td>58.60</td>\n",
       "      <td>700.00</td>\n",
       "      <td>Gurvich, Veyts, et al., 1989</td>\n",
       "    </tr>\n",
       "    <tr>\n",
       "      <th>7</th>\n",
       "      <td>8</td>\n",
       "      <td>64.08</td>\n",
       "      <td>800.00</td>\n",
       "      <td>Gurvich, Veyts, et al., 1989</td>\n",
       "    </tr>\n",
       "    <tr>\n",
       "      <th>8</th>\n",
       "      <td>9</td>\n",
       "      <td>69.14</td>\n",
       "      <td>900.00</td>\n",
       "      <td>Gurvich, Veyts, et al., 1989</td>\n",
       "    </tr>\n",
       "    <tr>\n",
       "      <th>9</th>\n",
       "      <td>10</td>\n",
       "      <td>73.75</td>\n",
       "      <td>1000.00</td>\n",
       "      <td>Gurvich, Veyts, et al., 1989</td>\n",
       "    </tr>\n",
       "    <tr>\n",
       "      <th>10</th>\n",
       "      <td>11</td>\n",
       "      <td>77.92</td>\n",
       "      <td>1100.00</td>\n",
       "      <td>Gurvich, Veyts, et al., 1989</td>\n",
       "    </tr>\n",
       "    <tr>\n",
       "      <th>11</th>\n",
       "      <td>12</td>\n",
       "      <td>81.68</td>\n",
       "      <td>1200.00</td>\n",
       "      <td>Gurvich, Veyts, et al., 1989</td>\n",
       "    </tr>\n",
       "    <tr>\n",
       "      <th>12</th>\n",
       "      <td>13</td>\n",
       "      <td>85.07</td>\n",
       "      <td>1300.00</td>\n",
       "      <td>Gurvich, Veyts, et al., 1989</td>\n",
       "    </tr>\n",
       "    <tr>\n",
       "      <th>13</th>\n",
       "      <td>14</td>\n",
       "      <td>88.11</td>\n",
       "      <td>1400.00</td>\n",
       "      <td>Gurvich, Veyts, et al., 1989</td>\n",
       "    </tr>\n",
       "    <tr>\n",
       "      <th>14</th>\n",
       "      <td>15</td>\n",
       "      <td>90.86</td>\n",
       "      <td>1500.00</td>\n",
       "      <td>Gurvich, Veyts, et al., 1989</td>\n",
       "    </tr>\n",
       "    <tr>\n",
       "      <th>15</th>\n",
       "      <td>16</td>\n",
       "      <td>93.33</td>\n",
       "      <td>1600.00</td>\n",
       "      <td>Gurvich, Veyts, et al., 1989</td>\n",
       "    </tr>\n",
       "    <tr>\n",
       "      <th>16</th>\n",
       "      <td>17</td>\n",
       "      <td>95.58</td>\n",
       "      <td>1700.00</td>\n",
       "      <td>Gurvich, Veyts, et al., 1989</td>\n",
       "    </tr>\n",
       "    <tr>\n",
       "      <th>17</th>\n",
       "      <td>18</td>\n",
       "      <td>97.63</td>\n",
       "      <td>1800.00</td>\n",
       "      <td>Gurvich, Veyts, et al., 1989</td>\n",
       "    </tr>\n",
       "    <tr>\n",
       "      <th>18</th>\n",
       "      <td>19</td>\n",
       "      <td>99.51</td>\n",
       "      <td>1900.00</td>\n",
       "      <td>Gurvich, Veyts, et al., 1989</td>\n",
       "    </tr>\n",
       "    <tr>\n",
       "      <th>19</th>\n",
       "      <td>20</td>\n",
       "      <td>101.24</td>\n",
       "      <td>2000.00</td>\n",
       "      <td>Gurvich, Veyts, et al., 1989</td>\n",
       "    </tr>\n",
       "    <tr>\n",
       "      <th>20</th>\n",
       "      <td>21</td>\n",
       "      <td>102.83</td>\n",
       "      <td>2100.00</td>\n",
       "      <td>Gurvich, Veyts, et al., 1989</td>\n",
       "    </tr>\n",
       "    <tr>\n",
       "      <th>21</th>\n",
       "      <td>22</td>\n",
       "      <td>104.31</td>\n",
       "      <td>2200.00</td>\n",
       "      <td>Gurvich, Veyts, et al., 1989</td>\n",
       "    </tr>\n",
       "    <tr>\n",
       "      <th>22</th>\n",
       "      <td>23</td>\n",
       "      <td>105.70</td>\n",
       "      <td>2300.00</td>\n",
       "      <td>Gurvich, Veyts, et al., 1989</td>\n",
       "    </tr>\n",
       "    <tr>\n",
       "      <th>23</th>\n",
       "      <td>24</td>\n",
       "      <td>107.00</td>\n",
       "      <td>2400.00</td>\n",
       "      <td>Gurvich, Veyts, et al., 1989</td>\n",
       "    </tr>\n",
       "    <tr>\n",
       "      <th>24</th>\n",
       "      <td>25</td>\n",
       "      <td>108.23</td>\n",
       "      <td>2500.00</td>\n",
       "      <td>Gurvich, Veyts, et al., 1989</td>\n",
       "    </tr>\n",
       "    <tr>\n",
       "      <th>25</th>\n",
       "      <td>26</td>\n",
       "      <td>109.39</td>\n",
       "      <td>2600.00</td>\n",
       "      <td>Gurvich, Veyts, et al., 1989</td>\n",
       "    </tr>\n",
       "    <tr>\n",
       "      <th>26</th>\n",
       "      <td>27</td>\n",
       "      <td>110.50</td>\n",
       "      <td>2700.00</td>\n",
       "      <td>Gurvich, Veyts, et al., 1989</td>\n",
       "    </tr>\n",
       "    <tr>\n",
       "      <th>27</th>\n",
       "      <td>28</td>\n",
       "      <td>111.56</td>\n",
       "      <td>2800.00</td>\n",
       "      <td>Gurvich, Veyts, et al., 1989</td>\n",
       "    </tr>\n",
       "    <tr>\n",
       "      <th>28</th>\n",
       "      <td>29</td>\n",
       "      <td>112.57</td>\n",
       "      <td>2900.00</td>\n",
       "      <td>Gurvich, Veyts, et al., 1989</td>\n",
       "    </tr>\n",
       "    <tr>\n",
       "      <th>29</th>\n",
       "      <td>30</td>\n",
       "      <td>113.55</td>\n",
       "      <td>3000.00</td>\n",
       "      <td>Gurvich, Veyts, et al., 1989</td>\n",
       "    </tr>\n",
       "  </tbody>\n",
       "</table>\n",
       "</div>"
      ],
      "text/plain": [
       "    ID  Cp gas(J/mol*K)  Temperature (K)                     Reference\n",
       "0    1            33.51           200.00  Gurvich, Veyts, et al., 1989\n",
       "1    2            35.69           298.15  Gurvich, Veyts, et al., 1989\n",
       "2    3            35.76           300.00  Gurvich, Veyts, et al., 1989\n",
       "3    4            40.63           400.00  Gurvich, Veyts, et al., 1989\n",
       "4    5            46.63           500.00  Gurvich, Veyts, et al., 1989\n",
       "5    6            52.74           600.00  Gurvich, Veyts, et al., 1989\n",
       "6    7            58.60           700.00  Gurvich, Veyts, et al., 1989\n",
       "7    8            64.08           800.00  Gurvich, Veyts, et al., 1989\n",
       "8    9            69.14           900.00  Gurvich, Veyts, et al., 1989\n",
       "9   10            73.75          1000.00  Gurvich, Veyts, et al., 1989\n",
       "10  11            77.92          1100.00  Gurvich, Veyts, et al., 1989\n",
       "11  12            81.68          1200.00  Gurvich, Veyts, et al., 1989\n",
       "12  13            85.07          1300.00  Gurvich, Veyts, et al., 1989\n",
       "13  14            88.11          1400.00  Gurvich, Veyts, et al., 1989\n",
       "14  15            90.86          1500.00  Gurvich, Veyts, et al., 1989\n",
       "15  16            93.33          1600.00  Gurvich, Veyts, et al., 1989\n",
       "16  17            95.58          1700.00  Gurvich, Veyts, et al., 1989\n",
       "17  18            97.63          1800.00  Gurvich, Veyts, et al., 1989\n",
       "18  19            99.51          1900.00  Gurvich, Veyts, et al., 1989\n",
       "19  20           101.24          2000.00  Gurvich, Veyts, et al., 1989\n",
       "20  21           102.83          2100.00  Gurvich, Veyts, et al., 1989\n",
       "21  22           104.31          2200.00  Gurvich, Veyts, et al., 1989\n",
       "22  23           105.70          2300.00  Gurvich, Veyts, et al., 1989\n",
       "23  24           107.00          2400.00  Gurvich, Veyts, et al., 1989\n",
       "24  25           108.23          2500.00  Gurvich, Veyts, et al., 1989\n",
       "25  26           109.39          2600.00  Gurvich, Veyts, et al., 1989\n",
       "26  27           110.50          2700.00  Gurvich, Veyts, et al., 1989\n",
       "27  28           111.56          2800.00  Gurvich, Veyts, et al., 1989\n",
       "28  29           112.57          2900.00  Gurvich, Veyts, et al., 1989\n",
       "29  30           113.55          3000.00  Gurvich, Veyts, et al., 1989"
      ]
     },
     "execution_count": 6,
     "metadata": {},
     "output_type": "execute_result"
    }
   ],
   "source": [
    "import pandas as pd\n",
    "expdata_df = pd.read_csv('../../../data/thermodynamics/heatcapacity/methane.csv')\n",
    "expdata_df"
   ]
  },
  {
   "cell_type": "code",
   "execution_count": 8,
   "metadata": {},
   "outputs": [
    {
     "data": {
      "text/plain": [
       "<Figure size 640x480 with 0 Axes>"
      ]
     },
     "metadata": {},
     "output_type": "display_data"
    },
    {
     "name": "stderr",
     "output_type": "stream",
     "text": [
      "/home/codespace/.local/lib/python3.10/site-packages/IPython/core/pylabtools.py:152: UserWarning: Glyph 9 (\t) missing from current font.\n",
      "  fig.canvas.print_figure(bytes_io, **kw)\n"
     ]
    },
    {
     "data": {
      "image/png": "[encoded data removed]",
      "text/plain": [
       "<Figure size 640x480 with 1 Axes>"
      ]
     },
     "metadata": {},
     "output_type": "display_data"
    }
   ],
   "source": [
    "from matplotlib import pyplot as plt\n",
    "fig = plt.figure()\n",
    "\n",
    "expdata_df.plot(x='Temperature (K)', y='Cp gas(J/mol*K)', kind='scatter',ylabel='Cp\tgas(J/mol*K)', xlabel='Temperature[K]',color='red')\n",
    "\n",
    "plt.show()"
   ]
  },
  {
   "attachments": {},
   "cell_type": "markdown",
   "metadata": {},
   "source": [
    "# Evaluation of experimental data\n",
    "\n",
    "In this section the experimental data will be evaluated and eventual some data sets will be removed from the set."
   ]
  },
  {
   "cell_type": "code",
   "execution_count": null,
   "metadata": {},
   "outputs": [],
   "source": []
  },
  {
   "attachments": {},
   "cell_type": "markdown",
   "metadata": {},
   "source": [
    "# Compare to NeqSim Calculations"
   ]
  },
  {
   "attachments": {},
   "cell_type": "markdown",
   "metadata": {},
   "source": [
    "## NeqSim calculations at 288.15 K"
   ]
  },
  {
   "cell_type": "code",
   "execution_count": 13,
   "metadata": {},
   "outputs": [
    {
     "data": {
      "text/plain": [
       "<Figure size 640x480 with 0 Axes>"
      ]
     },
     "metadata": {},
     "output_type": "display_data"
    },
    {
     "data": {
      "image/png": "[encoded data removed]",
      "text/plain": [
       "<Figure size 640x480 with 1 Axes>"
      ]
     },
     "metadata": {},
     "output_type": "display_data"
    }
   ],
   "source": [
    "import neqsim\n",
    "from neqsim.thermo.thermoTools import fluid, TPflash, fluidComposition,bubp\n",
    "import pandas as pd\n",
    "import numpy as np\n",
    "\n",
    "fluid1 = fluid('srk')\n",
    "fluid1.addComponent('methane', 1.0)\n",
    "fluid1.setTemperature(15.0, 'C')\n",
    "fluid1.setPressure(1.0, 'bara')\n",
    "\n",
    "def heatcap(input):\n",
    "    fluid1.setTemperature(input[0], 'K')\n",
    "    TPflash(fluid1)\n",
    "    fluid1.initProperties()\n",
    "    return fluid1.getPhase('gas').getCp('J/molK')\n",
    "\n",
    "temperatures = expdata_df['Temperature (K)'].values.tolist()\n",
    "input = zip(temperatures)\n",
    "cP_res = [heatcap(inp) for inp in input]\n",
    "\n",
    "dataWithExperiment = expdata_df.assign(cP_res = cP_res)\n",
    "\n",
    "from matplotlib import pyplot as plt\n",
    "fig = plt.figure()\t\n",
    "plot1 = dataWithExperiment.plot(x='Temperature (K)', y='Cp gas(J/mol*K)', kind='scatter',ylabel='Cp(kJ/kgK)', xlabel='Temperature[K]',color='black')\t\n",
    "dataWithExperiment.plot(ax=plot1, x='Temperature (K)', y='cP_res', kind='scatter',ylabel='Cp(kJ/kgK)', xlabel='Temperature[K]',color='blue')\t\n",
    "plt.legend(['experiment', 'srk'])\n",
    "plt.show()"
   ]
  },
  {
   "attachments": {},
   "cell_type": "markdown",
   "metadata": {},
   "source": [
    "# Parameter fitting"
   ]
  },
  {
   "attachments": {},
   "cell_type": "markdown",
   "metadata": {},
   "source": [
    "## Manual fitting"
   ]
  },
  {
   "attachments": {},
   "cell_type": "markdown",
   "metadata": {},
   "source": [
    "## Automatic fitting"
   ]
  }
 ],
 "metadata": {
  "kernelspec": {
   "display_name": "Python 3",
   "language": "python",
   "name": "python3"
  },
  "language_info": {
   "codemirror_mode": {
    "name": "ipython",
    "version": 3
   },
   "file_extension": ".py",
   "mimetype": "text/x-python",
   "name": "python",
   "nbconvert_exporter": "python",
   "pygments_lexer": "ipython3",
   "version": "3.10.4"
  },
  "orig_nbformat": 4
 },
 "nbformat": 4,
 "nbformat_minor": 2
}

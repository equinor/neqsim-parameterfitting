{
 "cells": [
  {
   "cell_type": "code",
   "execution_count": 23,
   "metadata": {},
   "outputs": [],
   "source": [
    "%%capture\n",
    "%pip install neqsim\n",
    "\n",
    "#To check for methods in a Java object \n",
    "#from neqsim import methods"
   ]
  },
  {
   "attachments": {},
   "cell_type": "markdown",
   "metadata": {},
   "source": [
    "# Experimental data\n",
    "Experimental data is collected."
   ]
  },
  {
   "cell_type": "code",
   "execution_count": 24,
   "metadata": {},
   "outputs": [
    {
     "data": {
      "text/html": [
       "<div>\n",
       "<style scoped>\n",
       "    .dataframe tbody tr th:only-of-type {\n",
       "        vertical-align: middle;\n",
       "    }\n",
       "\n",
       "    .dataframe tbody tr th {\n",
       "        vertical-align: top;\n",
       "    }\n",
       "\n",
       "    .dataframe thead th {\n",
       "        text-align: right;\n",
       "    }\n",
       "</style>\n",
       "<table border=\"1\" class=\"dataframe\">\n",
       "  <thead>\n",
       "    <tr style=\"text-align: right;\">\n",
       "      <th></th>\n",
       "      <th>Temperature (K)</th>\n",
       "      <th>Specific Heat Capacity (J/(mol*K))</th>\n",
       "      <th>Unnamed: 2</th>\n",
       "      <th>Unnamed: 3</th>\n",
       "      <th>Unnamed: 4</th>\n",
       "      <th>Unnamed: 5</th>\n",
       "      <th>Unnamed: 6</th>\n",
       "      <th>Unnamed: 7</th>\n",
       "      <th>Unnamed: 8</th>\n",
       "      <th>Unnamed: 9</th>\n",
       "      <th>Unnamed: 10</th>\n",
       "    </tr>\n",
       "  </thead>\n",
       "  <tbody>\n",
       "    <tr>\n",
       "      <th>0</th>\n",
       "      <td>100</td>\n",
       "      <td>29.10</td>\n",
       "      <td>NaN</td>\n",
       "      <td>NaN</td>\n",
       "      <td>NaN</td>\n",
       "      <td>NaN</td>\n",
       "      <td>NaN</td>\n",
       "      <td>NaN</td>\n",
       "      <td>NaN</td>\n",
       "      <td>NaN</td>\n",
       "      <td>NaN</td>\n",
       "    </tr>\n",
       "    <tr>\n",
       "      <th>1</th>\n",
       "      <td>200</td>\n",
       "      <td>29.11</td>\n",
       "      <td>NaN</td>\n",
       "      <td>NaN</td>\n",
       "      <td>NaN</td>\n",
       "      <td>NaN</td>\n",
       "      <td>NaN</td>\n",
       "      <td>NaN</td>\n",
       "      <td>NaN</td>\n",
       "      <td>NaN</td>\n",
       "      <td>NaN</td>\n",
       "    </tr>\n",
       "    <tr>\n",
       "      <th>2</th>\n",
       "      <td>300</td>\n",
       "      <td>29.12</td>\n",
       "      <td>NaN</td>\n",
       "      <td>NaN</td>\n",
       "      <td>NaN</td>\n",
       "      <td>NaN</td>\n",
       "      <td>NaN</td>\n",
       "      <td>NaN</td>\n",
       "      <td>NaN</td>\n",
       "      <td>NaN</td>\n",
       "      <td>NaN</td>\n",
       "    </tr>\n",
       "    <tr>\n",
       "      <th>3</th>\n",
       "      <td>400</td>\n",
       "      <td>29.25</td>\n",
       "      <td>NaN</td>\n",
       "      <td>NaN</td>\n",
       "      <td>NaN</td>\n",
       "      <td>NaN</td>\n",
       "      <td>NaN</td>\n",
       "      <td>NaN</td>\n",
       "      <td>NaN</td>\n",
       "      <td>NaN</td>\n",
       "      <td>NaN</td>\n",
       "    </tr>\n",
       "    <tr>\n",
       "      <th>4</th>\n",
       "      <td>500</td>\n",
       "      <td>29.58</td>\n",
       "      <td>NaN</td>\n",
       "      <td>NaN</td>\n",
       "      <td>NaN</td>\n",
       "      <td>NaN</td>\n",
       "      <td>NaN</td>\n",
       "      <td>NaN</td>\n",
       "      <td>NaN</td>\n",
       "      <td>NaN</td>\n",
       "      <td>NaN</td>\n",
       "    </tr>\n",
       "    <tr>\n",
       "      <th>5</th>\n",
       "      <td>600</td>\n",
       "      <td>30.10</td>\n",
       "      <td>NaN</td>\n",
       "      <td>NaN</td>\n",
       "      <td>NaN</td>\n",
       "      <td>NaN</td>\n",
       "      <td>NaN</td>\n",
       "      <td>NaN</td>\n",
       "      <td>NaN</td>\n",
       "      <td>NaN</td>\n",
       "      <td>NaN</td>\n",
       "    </tr>\n",
       "    <tr>\n",
       "      <th>6</th>\n",
       "      <td>700</td>\n",
       "      <td>30.76</td>\n",
       "      <td>NaN</td>\n",
       "      <td>NaN</td>\n",
       "      <td>NaN</td>\n",
       "      <td>NaN</td>\n",
       "      <td>NaN</td>\n",
       "      <td>NaN</td>\n",
       "      <td>NaN</td>\n",
       "      <td>NaN</td>\n",
       "      <td>NaN</td>\n",
       "    </tr>\n",
       "    <tr>\n",
       "      <th>7</th>\n",
       "      <td>800</td>\n",
       "      <td>31.44</td>\n",
       "      <td>NaN</td>\n",
       "      <td>NaN</td>\n",
       "      <td>NaN</td>\n",
       "      <td>NaN</td>\n",
       "      <td>NaN</td>\n",
       "      <td>NaN</td>\n",
       "      <td>NaN</td>\n",
       "      <td>NaN</td>\n",
       "      <td>NaN</td>\n",
       "    </tr>\n",
       "    <tr>\n",
       "      <th>8</th>\n",
       "      <td>900</td>\n",
       "      <td>32.09</td>\n",
       "      <td>NaN</td>\n",
       "      <td>NaN</td>\n",
       "      <td>NaN</td>\n",
       "      <td>NaN</td>\n",
       "      <td>NaN</td>\n",
       "      <td>NaN</td>\n",
       "      <td>NaN</td>\n",
       "      <td>NaN</td>\n",
       "      <td>NaN</td>\n",
       "    </tr>\n",
       "    <tr>\n",
       "      <th>9</th>\n",
       "      <td>1000</td>\n",
       "      <td>32.69</td>\n",
       "      <td>NaN</td>\n",
       "      <td>NaN</td>\n",
       "      <td>NaN</td>\n",
       "      <td>NaN</td>\n",
       "      <td>NaN</td>\n",
       "      <td>NaN</td>\n",
       "      <td>NaN</td>\n",
       "      <td>NaN</td>\n",
       "      <td>NaN</td>\n",
       "    </tr>\n",
       "    <tr>\n",
       "      <th>10</th>\n",
       "      <td>1100</td>\n",
       "      <td>33.24</td>\n",
       "      <td>NaN</td>\n",
       "      <td>NaN</td>\n",
       "      <td>NaN</td>\n",
       "      <td>NaN</td>\n",
       "      <td>NaN</td>\n",
       "      <td>NaN</td>\n",
       "      <td>NaN</td>\n",
       "      <td>NaN</td>\n",
       "      <td>NaN</td>\n",
       "    </tr>\n",
       "    <tr>\n",
       "      <th>11</th>\n",
       "      <td>1200</td>\n",
       "      <td>33.72</td>\n",
       "      <td>NaN</td>\n",
       "      <td>NaN</td>\n",
       "      <td>NaN</td>\n",
       "      <td>NaN</td>\n",
       "      <td>NaN</td>\n",
       "      <td>NaN</td>\n",
       "      <td>NaN</td>\n",
       "      <td>NaN</td>\n",
       "      <td>NaN</td>\n",
       "    </tr>\n",
       "  </tbody>\n",
       "</table>\n",
       "</div>"
      ],
      "text/plain": [
       "    Temperature (K)  Specific Heat Capacity (J/(mol*K))  Unnamed: 2  \\\n",
       "0               100                               29.10         NaN   \n",
       "1               200                               29.11         NaN   \n",
       "2               300                               29.12         NaN   \n",
       "3               400                               29.25         NaN   \n",
       "4               500                               29.58         NaN   \n",
       "5               600                               30.10         NaN   \n",
       "6               700                               30.76         NaN   \n",
       "7               800                               31.44         NaN   \n",
       "8               900                               32.09         NaN   \n",
       "9              1000                               32.69         NaN   \n",
       "10             1100                               33.24         NaN   \n",
       "11             1200                               33.72         NaN   \n",
       "\n",
       "    Unnamed: 3  Unnamed: 4  Unnamed: 5  Unnamed: 6  Unnamed: 7  Unnamed: 8  \\\n",
       "0          NaN         NaN         NaN         NaN         NaN         NaN   \n",
       "1          NaN         NaN         NaN         NaN         NaN         NaN   \n",
       "2          NaN         NaN         NaN         NaN         NaN         NaN   \n",
       "3          NaN         NaN         NaN         NaN         NaN         NaN   \n",
       "4          NaN         NaN         NaN         NaN         NaN         NaN   \n",
       "5          NaN         NaN         NaN         NaN         NaN         NaN   \n",
       "6          NaN         NaN         NaN         NaN         NaN         NaN   \n",
       "7          NaN         NaN         NaN         NaN         NaN         NaN   \n",
       "8          NaN         NaN         NaN         NaN         NaN         NaN   \n",
       "9          NaN         NaN         NaN         NaN         NaN         NaN   \n",
       "10         NaN         NaN         NaN         NaN         NaN         NaN   \n",
       "11         NaN         NaN         NaN         NaN         NaN         NaN   \n",
       "\n",
       "    Unnamed: 9  Unnamed: 10  \n",
       "0          NaN          NaN  \n",
       "1          NaN          NaN  \n",
       "2          NaN          NaN  \n",
       "3          NaN          NaN  \n",
       "4          NaN          NaN  \n",
       "5          NaN          NaN  \n",
       "6          NaN          NaN  \n",
       "7          NaN          NaN  \n",
       "8          NaN          NaN  \n",
       "9          NaN          NaN  \n",
       "10         NaN          NaN  \n",
       "11         NaN          NaN  "
      ]
     },
     "execution_count": 24,
     "metadata": {},
     "output_type": "execute_result"
    }
   ],
   "source": [
    "import pandas as pd\n",
    "expdata_df = pd.read_csv('../../../data/thermodynamics/heatcapacity/nitrogen.csv')\n",
    "expdata_df\n",
    "\n",
    "expdata_df = expdata_df.loc[expdata_df['Temperature (K)'] < 1300]\n",
    "expdata_df"
   ]
  },
  {
   "cell_type": "code",
   "execution_count": 25,
   "metadata": {},
   "outputs": [
    {
     "data": {
      "text/plain": [
       "<Figure size 640x480 with 0 Axes>"
      ]
     },
     "metadata": {},
     "output_type": "display_data"
    },
    {
     "name": "stderr",
     "output_type": "stream",
     "text": [
      "/home/codespace/.local/lib/python3.10/site-packages/IPython/core/pylabtools.py:152: UserWarning: Glyph 9 (\t) missing from current font.\n",
      "  fig.canvas.print_figure(bytes_io, **kw)\n"
     ]
    },
    {
     "data": {
      "image/png": "[encoded data removed]",
      "text/plain": [
       "<Figure size 640x480 with 1 Axes>"
      ]
     },
     "metadata": {},
     "output_type": "display_data"
    }
   ],
   "source": [
    "from matplotlib import pyplot as plt\n",
    "fig = plt.figure()\n",
    "\n",
    "expdata_df.plot(x='Temperature (K)', y='Specific Heat Capacity (J/(mol*K))', kind='scatter',ylabel='Cp\tgas(J/mol*K)', xlabel='Temperature[K]',color='red')\n",
    "\n",
    "plt.show()"
   ]
  },
  {
   "attachments": {},
   "cell_type": "markdown",
   "metadata": {},
   "source": [
    "# Evaluation of experimental data\n",
    "\n",
    "In this section the experimental data will be evaluated and eventual some data sets will be removed from the set."
   ]
  },
  {
   "cell_type": "code",
   "execution_count": null,
   "metadata": {},
   "outputs": [],
   "source": []
  },
  {
   "attachments": {},
   "cell_type": "markdown",
   "metadata": {},
   "source": [
    "# Compare to NeqSim Calculations"
   ]
  },
  {
   "attachments": {},
   "cell_type": "markdown",
   "metadata": {},
   "source": [
    "## NeqSim calculations at 288.15 K"
   ]
  },
  {
   "cell_type": "code",
   "execution_count": 26,
   "metadata": {},
   "outputs": [
    {
     "data": {
      "text/plain": [
       "<Figure size 640x480 with 0 Axes>"
      ]
     },
     "metadata": {},
     "output_type": "display_data"
    },
    {
     "data": {
      "image/png": "[encoded data removed]",
      "text/plain": [
       "<Figure size 640x480 with 1 Axes>"
      ]
     },
     "metadata": {},
     "output_type": "display_data"
    }
   ],
   "source": [
    "import neqsim\n",
    "from neqsim.thermo.thermoTools import fluid, TPflash, fluidComposition,bubp\n",
    "import pandas as pd\n",
    "import numpy as np\n",
    "\n",
    "fluid1 = fluid('srk')\n",
    "fluid1.addComponent('nitrogen', 1.0)\n",
    "fluid1.setTemperature(15.0, 'C')\n",
    "fluid1.setPressure(1.0, 'bara')\n",
    "\n",
    "def heatcap(input):\n",
    "    fluid1.setTemperature(input[0], 'K')\n",
    "    TPflash(fluid1)\n",
    "    fluid1.initProperties()\n",
    "    return fluid1.getPhase('gas').getCp('J/molK')\n",
    "\n",
    "temperatures = expdata_df['Temperature (K)'].values.tolist()\n",
    "expData = expdata_df['Specific Heat Capacity (J/(mol*K))'].values.tolist()\n",
    "input = zip(temperatures)\n",
    "cP_res = [heatcap(inp) for inp in input]\n",
    "\n",
    "dataWithExperiment = expdata_df.assign(cP_res = cP_res)\n",
    "\n",
    "from matplotlib import pyplot as plt\n",
    "fig = plt.figure()\t\n",
    "plot1 = dataWithExperiment.plot(x='Temperature (K)', y='Specific Heat Capacity (J/(mol*K))', kind='scatter',ylabel='Cp(kJ/kgK)', xlabel='Temperature[K]',color='black')\t\n",
    "dataWithExperiment.plot(ax=plot1, x='Temperature (K)', y='cP_res', kind='scatter',ylabel='Cp(kJ/kgK)', xlabel='Temperature[K]',color='blue')\t\n",
    "plt.legend(['experiment', 'srk'])\n",
    "plt.show()"
   ]
  },
  {
   "attachments": {},
   "cell_type": "markdown",
   "metadata": {},
   "source": [
    "# Parameter fitting\n",
    "\n",
    "NeqSim Cp calc:\n",
    "https://github.com/equinor/neqsim/blob/37680eafd43242488f5522fae4e80d50dfd4b3c0/src/main/java/neqsim/thermo/component/Component.java#L1256\n",
    "\n",
    " getCpA() + getCpB() * temperature + getCpC() * Math.pow(temperature, 2)\n",
    "        + getCpD() * Math.pow(temperature, 3) + getCpE() * Math.pow(temperature, 4);"
   ]
  },
  {
   "attachments": {},
   "cell_type": "markdown",
   "metadata": {},
   "source": [
    "## Manual fitting"
   ]
  },
  {
   "cell_type": "code",
   "execution_count": 27,
   "metadata": {},
   "outputs": [
    {
     "name": "stdout",
     "output_type": "stream",
     "text": [
      "CpA  29.423246\n",
      "CpB  -0.002169954\n",
      "CpC  5.81e-07\n",
      "CpD  1.31e-08\n",
      "CpE  -8.23086e-12\n"
     ]
    }
   ],
   "source": [
    "CpA = fluid1.getComponent(0).getCpA()\n",
    "CpB = fluid1.getComponent(0).getCpB()\n",
    "CpC = fluid1.getComponent(0).getCpC()\n",
    "CpD = fluid1.getComponent(0).getCpD()\n",
    "CpE = fluid1.getComponent(0).getCpE()\n",
    "\n",
    "print('CpA ', CpA)\n",
    "print('CpB ', CpB)\n",
    "print('CpC ', CpC)\n",
    "print('CpD ', CpD)\n",
    "print('CpE ', CpE)"
   ]
  },
  {
   "cell_type": "code",
   "execution_count": 28,
   "metadata": {},
   "outputs": [
    {
     "name": "stdout",
     "output_type": "stream",
     "text": [
      "[-4.08653846e-12  4.68612406e-09  5.77114899e-06 -3.02604733e-03\n",
      "  2.93824747e+01]\n",
      "CpA_fitted 29.3824747474747\n",
      "CpB_fitted -0.0030260473322971763\n",
      "CpC_fitted 5.771148989898619e-06\n",
      "CpD_fitted 4.686124061124461e-09\n",
      "CpE_fitted -4.086538461538615e-12\n"
     ]
    },
    {
     "data": {
      "text/plain": [
       "[<matplotlib.lines.Line2D at 0x7f9bdbf23850>,\n",
       " <matplotlib.lines.Line2D at 0x7f9bdbf228c0>]"
      ]
     },
     "execution_count": 28,
     "metadata": {},
     "output_type": "execute_result"
    },
    {
     "data": {
      "image/png": "[encoded data removed]",
      "text/plain": [
       "<Figure size 640x480 with 1 Axes>"
      ]
     },
     "metadata": {},
     "output_type": "display_data"
    }
   ],
   "source": [
    "x = np.array(temperatures)\n",
    "y = np.array(expData)\n",
    "z = np.polyfit(x, y, 4)\n",
    "print(z)\n",
    "p = np.poly1d(z)\n",
    "\n",
    "print('CpA_fitted', p[0])\n",
    "print('CpB_fitted', p[1])\n",
    "print('CpC_fitted', p[2])\n",
    "print('CpD_fitted', p[3])\n",
    "print('CpE_fitted', p[4])\n",
    "\n",
    "xp = np.linspace(-2, 6, 100)\n",
    "plt.plot(x, y, '.', x, p(x), '-')"
   ]
  },
  {
   "attachments": {},
   "cell_type": "markdown",
   "metadata": {},
   "source": [
    "## Automatic fitting"
   ]
  }
 ],
 "metadata": {
  "kernelspec": {
   "display_name": "Python 3",
   "language": "python",
   "name": "python3"
  },
  "language_info": {
   "codemirror_mode": {
    "name": "ipython",
    "version": 3
   },
   "file_extension": ".py",
   "mimetype": "text/x-python",
   "name": "python",
   "nbconvert_exporter": "python",
   "pygments_lexer": "ipython3",
   "version": "3.10.4"
  },
  "orig_nbformat": 4
 },
 "nbformat": 4,
 "nbformat_minor": 2
}

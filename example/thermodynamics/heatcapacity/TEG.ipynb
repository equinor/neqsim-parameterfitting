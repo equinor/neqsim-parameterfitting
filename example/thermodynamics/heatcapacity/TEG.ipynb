{
 "cells": [
  {
   "cell_type": "code",
   "execution_count": 2,
   "metadata": {},
   "outputs": [],
   "source": [
    "%%capture\n",
    "%pip install neqsim\n",
    "\n",
    "#To check for methods in a Java object \n",
    "#from neqsim import methods"
   ]
  },
  {
   "attachments": {},
   "cell_type": "markdown",
   "metadata": {},
   "source": [
    "# Experimental data\n",
    "Experimental data for TEG is collected."
   ]
  },
  {
   "cell_type": "code",
   "execution_count": 1,
   "metadata": {},
   "outputs": [
    {
     "data": {
      "text/html": [
       "<div>\n",
       "<style scoped>\n",
       "    .dataframe tbody tr th:only-of-type {\n",
       "        vertical-align: middle;\n",
       "    }\n",
       "\n",
       "    .dataframe tbody tr th {\n",
       "        vertical-align: top;\n",
       "    }\n",
       "\n",
       "    .dataframe thead th {\n",
       "        text-align: right;\n",
       "    }\n",
       "</style>\n",
       "<table border=\"1\" class=\"dataframe\">\n",
       "  <thead>\n",
       "    <tr style=\"text-align: right;\">\n",
       "      <th></th>\n",
       "      <th>ID</th>\n",
       "      <th>HeatCapacityCp</th>\n",
       "      <th>ComponentName</th>\n",
       "      <th>Temperature</th>\n",
       "      <th>Pressure</th>\n",
       "      <th>PhaseType</th>\n",
       "      <th>Reference</th>\n",
       "    </tr>\n",
       "  </thead>\n",
       "  <tbody>\n",
       "    <tr>\n",
       "      <th>0</th>\n",
       "      <td>1</td>\n",
       "      <td>2.083632</td>\n",
       "      <td>TEG</td>\n",
       "      <td>273.15</td>\n",
       "      <td>1</td>\n",
       "      <td>liquid</td>\n",
       "      <td>Stephens1979</td>\n",
       "    </tr>\n",
       "    <tr>\n",
       "      <th>1</th>\n",
       "      <td>2</td>\n",
       "      <td>2.163128</td>\n",
       "      <td>TEG</td>\n",
       "      <td>293.15</td>\n",
       "      <td>1</td>\n",
       "      <td>liquid</td>\n",
       "      <td>Stephens1979</td>\n",
       "    </tr>\n",
       "    <tr>\n",
       "      <th>2</th>\n",
       "      <td>3</td>\n",
       "      <td>2.242624</td>\n",
       "      <td>TEG</td>\n",
       "      <td>313.15</td>\n",
       "      <td>1</td>\n",
       "      <td>liquid</td>\n",
       "      <td>Stephens1979</td>\n",
       "    </tr>\n",
       "    <tr>\n",
       "      <th>3</th>\n",
       "      <td>4</td>\n",
       "      <td>2.322120</td>\n",
       "      <td>TEG</td>\n",
       "      <td>333.15</td>\n",
       "      <td>1</td>\n",
       "      <td>liquid</td>\n",
       "      <td>Stephens1979</td>\n",
       "    </tr>\n",
       "    <tr>\n",
       "      <th>4</th>\n",
       "      <td>5</td>\n",
       "      <td>2.401616</td>\n",
       "      <td>TEG</td>\n",
       "      <td>353.15</td>\n",
       "      <td>1</td>\n",
       "      <td>liquid</td>\n",
       "      <td>Stephens1979</td>\n",
       "    </tr>\n",
       "    <tr>\n",
       "      <th>5</th>\n",
       "      <td>6</td>\n",
       "      <td>2.481112</td>\n",
       "      <td>TEG</td>\n",
       "      <td>373.15</td>\n",
       "      <td>1</td>\n",
       "      <td>liquid</td>\n",
       "      <td>Stephens1979</td>\n",
       "    </tr>\n",
       "    <tr>\n",
       "      <th>6</th>\n",
       "      <td>7</td>\n",
       "      <td>2.560608</td>\n",
       "      <td>TEG</td>\n",
       "      <td>393.15</td>\n",
       "      <td>1</td>\n",
       "      <td>liquid</td>\n",
       "      <td>Stephens1979</td>\n",
       "    </tr>\n",
       "    <tr>\n",
       "      <th>7</th>\n",
       "      <td>8</td>\n",
       "      <td>2.640104</td>\n",
       "      <td>TEG</td>\n",
       "      <td>413.15</td>\n",
       "      <td>1</td>\n",
       "      <td>liquid</td>\n",
       "      <td>Stephens1979</td>\n",
       "    </tr>\n",
       "    <tr>\n",
       "      <th>8</th>\n",
       "      <td>9</td>\n",
       "      <td>2.719600</td>\n",
       "      <td>TEG</td>\n",
       "      <td>433.15</td>\n",
       "      <td>1</td>\n",
       "      <td>liquid</td>\n",
       "      <td>Stephens1979</td>\n",
       "    </tr>\n",
       "    <tr>\n",
       "      <th>9</th>\n",
       "      <td>10</td>\n",
       "      <td>2.753072</td>\n",
       "      <td>TEG</td>\n",
       "      <td>441.15</td>\n",
       "      <td>1</td>\n",
       "      <td>liquid</td>\n",
       "      <td>Stephens1979</td>\n",
       "    </tr>\n",
       "    <tr>\n",
       "      <th>10</th>\n",
       "      <td>11</td>\n",
       "      <td>2.769808</td>\n",
       "      <td>TEG</td>\n",
       "      <td>453.15</td>\n",
       "      <td>1</td>\n",
       "      <td>liquid</td>\n",
       "      <td>Stephens1979</td>\n",
       "    </tr>\n",
       "    <tr>\n",
       "      <th>11</th>\n",
       "      <td>12</td>\n",
       "      <td>2.786544</td>\n",
       "      <td>TEG</td>\n",
       "      <td>473.15</td>\n",
       "      <td>1</td>\n",
       "      <td>liquid</td>\n",
       "      <td>Stephens1979</td>\n",
       "    </tr>\n",
       "    <tr>\n",
       "      <th>12</th>\n",
       "      <td>13</td>\n",
       "      <td>2.799096</td>\n",
       "      <td>TEG</td>\n",
       "      <td>493.15</td>\n",
       "      <td>1</td>\n",
       "      <td>liquid</td>\n",
       "      <td>Stephens1979</td>\n",
       "    </tr>\n",
       "    <tr>\n",
       "      <th>13</th>\n",
       "      <td>14</td>\n",
       "      <td>2.815832</td>\n",
       "      <td>TEG</td>\n",
       "      <td>513.15</td>\n",
       "      <td>1</td>\n",
       "      <td>liquid</td>\n",
       "      <td>Stephens1979</td>\n",
       "    </tr>\n",
       "    <tr>\n",
       "      <th>14</th>\n",
       "      <td>15</td>\n",
       "      <td>2.832568</td>\n",
       "      <td>TEG</td>\n",
       "      <td>533.15</td>\n",
       "      <td>1</td>\n",
       "      <td>liquid</td>\n",
       "      <td>Stephens1979</td>\n",
       "    </tr>\n",
       "  </tbody>\n",
       "</table>\n",
       "</div>"
      ],
      "text/plain": [
       "    ID  HeatCapacityCp ComponentName  Temperature  Pressure PhaseType  \\\n",
       "0    1        2.083632           TEG       273.15         1    liquid   \n",
       "1    2        2.163128           TEG       293.15         1    liquid   \n",
       "2    3        2.242624           TEG       313.15         1    liquid   \n",
       "3    4        2.322120           TEG       333.15         1    liquid   \n",
       "4    5        2.401616           TEG       353.15         1    liquid   \n",
       "5    6        2.481112           TEG       373.15         1    liquid   \n",
       "6    7        2.560608           TEG       393.15         1    liquid   \n",
       "7    8        2.640104           TEG       413.15         1    liquid   \n",
       "8    9        2.719600           TEG       433.15         1    liquid   \n",
       "9   10        2.753072           TEG       441.15         1    liquid   \n",
       "10  11        2.769808           TEG       453.15         1    liquid   \n",
       "11  12        2.786544           TEG       473.15         1    liquid   \n",
       "12  13        2.799096           TEG       493.15         1    liquid   \n",
       "13  14        2.815832           TEG       513.15         1    liquid   \n",
       "14  15        2.832568           TEG       533.15         1    liquid   \n",
       "\n",
       "       Reference  \n",
       "0   Stephens1979  \n",
       "1   Stephens1979  \n",
       "2   Stephens1979  \n",
       "3   Stephens1979  \n",
       "4   Stephens1979  \n",
       "5   Stephens1979  \n",
       "6   Stephens1979  \n",
       "7   Stephens1979  \n",
       "8   Stephens1979  \n",
       "9   Stephens1979  \n",
       "10  Stephens1979  \n",
       "11  Stephens1979  \n",
       "12  Stephens1979  \n",
       "13  Stephens1979  \n",
       "14  Stephens1979  "
      ]
     },
     "execution_count": 1,
     "metadata": {},
     "output_type": "execute_result"
    }
   ],
   "source": [
    "import pandas as pd\n",
    "expdata_df = pd.read_csv('../../../data/thermodynamics/heatcapacity/TEG.csv')\n",
    "expdata_df"
   ]
  },
  {
   "cell_type": "code",
   "execution_count": 11,
   "metadata": {},
   "outputs": [
    {
     "data": {
      "text/plain": [
       "<Figure size 640x480 with 0 Axes>"
      ]
     },
     "metadata": {},
     "output_type": "display_data"
    },
    {
     "data": {
      "image/png": "[encoded data removed]",
      "text/plain": [
       "<Figure size 640x480 with 1 Axes>"
      ]
     },
     "metadata": {},
     "output_type": "display_data"
    }
   ],
   "source": [
    "from matplotlib import pyplot as plt\n",
    "fig = plt.figure()\n",
    "\n",
    "expdata_df.plot(x='Temperature', y='HeatCapacityCp', kind='scatter',ylabel='Cp (kJ/kgK)', xlabel='Temperature[K]',color='red')\n",
    "\n",
    "plt.show()"
   ]
  },
  {
   "attachments": {},
   "cell_type": "markdown",
   "metadata": {},
   "source": [
    "# Evaluation of experimental data\n",
    "\n",
    "In this section the experimental data will be evaluated and eventual some data sets will be removed from the set."
   ]
  },
  {
   "cell_type": "code",
   "execution_count": null,
   "metadata": {},
   "outputs": [],
   "source": []
  },
  {
   "attachments": {},
   "cell_type": "markdown",
   "metadata": {},
   "source": [
    "# Compare to NeqSim Calculations"
   ]
  },
  {
   "attachments": {},
   "cell_type": "markdown",
   "metadata": {},
   "source": [
    "## NeqSim calculations at 288.15 K"
   ]
  },
  {
   "cell_type": "code",
   "execution_count": 12,
   "metadata": {},
   "outputs": [
    {
     "data": {
      "text/plain": [
       "<Figure size 640x480 with 0 Axes>"
      ]
     },
     "metadata": {},
     "output_type": "display_data"
    },
    {
     "data": {
      "image/png": "[encoded data removed]",
      "text/plain": [
       "<Figure size 640x480 with 1 Axes>"
      ]
     },
     "metadata": {},
     "output_type": "display_data"
    }
   ],
   "source": [
    "import neqsim\n",
    "from neqsim.thermo.thermoTools import fluid, TPflash, fluidComposition,bubp\n",
    "import pandas as pd\n",
    "import numpy as np\n",
    "\n",
    "fluid1 = fluid('cpa')\n",
    "fluid1.addComponent('TEG', 1.0)\n",
    "fluid1.setTemperature(15.0, 'C')\n",
    "fluid1.setPressure(1.0, 'bara')\n",
    "\n",
    "def density(temp):\n",
    "    fluid1.setTemperature(temp, 'K')\n",
    "    TPflash(fluid1)\n",
    "    fluid1.initProperties()\n",
    "    return fluid1.getPhase('aqueous').getCp('kJ/kgK')\n",
    "\n",
    "temperatures = expdata_df['Temperature'].values.tolist()\n",
    "cP_res = [density(T) for T in temperatures]\n",
    "\n",
    "dataWithExperiment = expdata_df.assign(cP_res = cP_res)\n",
    "\n",
    "from matplotlib import pyplot as plt\n",
    "fig = plt.figure()\t\n",
    "plot1 = dataWithExperiment.plot(x='Temperature', y='HeatCapacityCp', kind='scatter',ylabel='Cp(kJ/kgK)', xlabel='Temperature[K]',color='black')\t\n",
    "dataWithExperiment.plot(ax=plot1, x='Temperature', y='cP_res', kind='scatter',ylabel='Cp(kJ/kgK)', xlabel='Temperature[K]',color='blue')\t\n",
    "plt.legend(['experiment', 'CPA'])\n",
    "plt.show()"
   ]
  },
  {
   "attachments": {},
   "cell_type": "markdown",
   "metadata": {},
   "source": [
    "# Parameter fitting"
   ]
  },
  {
   "attachments": {},
   "cell_type": "markdown",
   "metadata": {},
   "source": [
    "## Manual fitting"
   ]
  },
  {
   "attachments": {},
   "cell_type": "markdown",
   "metadata": {},
   "source": [
    "## Automatic fitting"
   ]
  }
 ],
 "metadata": {
  "kernelspec": {
   "display_name": "Python 3",
   "language": "python",
   "name": "python3"
  },
  "language_info": {
   "codemirror_mode": {
    "name": "ipython",
    "version": 3
   },
   "file_extension": ".py",
   "mimetype": "text/x-python",
   "name": "python",
   "nbconvert_exporter": "python",
   "pygments_lexer": "ipython3",
   "version": "3.10.4"
  },
  "orig_nbformat": 4
 },
 "nbformat": 4,
 "nbformat_minor": 2
}

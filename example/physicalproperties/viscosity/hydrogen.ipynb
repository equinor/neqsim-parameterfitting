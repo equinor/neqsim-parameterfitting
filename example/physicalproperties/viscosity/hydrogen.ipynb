{
 "cells": [
  {
   "cell_type": "code",
   "execution_count": null,
   "metadata": {},
   "outputs": [],
   "source": [
    "%%capture\n",
    "%pip install neqsim\n",
    "\n",
    "#To check for methods in a Java object \n",
    "#from neqsim import methods"
   ]
  },
  {
   "attachments": {},
   "cell_type": "markdown",
   "metadata": {},
   "source": [
    "# Experimental data\n",
    "Experimental data for viscosity of hydrogen is collected."
   ]
  },
  {
   "cell_type": "code",
   "execution_count": 1,
   "metadata": {},
   "outputs": [
    {
     "data": {
      "text/html": [
       "<div>\n",
       "<style scoped>\n",
       "    .dataframe tbody tr th:only-of-type {\n",
       "        vertical-align: middle;\n",
       "    }\n",
       "\n",
       "    .dataframe tbody tr th {\n",
       "        vertical-align: top;\n",
       "    }\n",
       "\n",
       "    .dataframe thead th {\n",
       "        text-align: right;\n",
       "    }\n",
       "</style>\n",
       "<table border=\"1\" class=\"dataframe\">\n",
       "  <thead>\n",
       "    <tr style=\"text-align: right;\">\n",
       "      <th></th>\n",
       "      <th>Fluid</th>\n",
       "      <th>Property</th>\n",
       "      <th>Dataset</th>\n",
       "      <th>#T (K)</th>\n",
       "      <th>P(Mpa)</th>\n",
       "      <th>H2(mol fraction)</th>\n",
       "      <th>rho(kg/m3)</th>\n",
       "      <th>Z</th>\n",
       "      <th>Visc(Pa s)</th>\n",
       "      <th>Thermal Conductivity (W/K/m)</th>\n",
       "      <th>Run</th>\n",
       "      <th>JT</th>\n",
       "      <th>T (  C)</th>\n",
       "      <th>T (   R)</th>\n",
       "    </tr>\n",
       "  </thead>\n",
       "  <tbody>\n",
       "    <tr>\n",
       "      <th>0</th>\n",
       "      <td>H2</td>\n",
       "      <td>Viscosity</td>\n",
       "      <td>Yusibani2011</td>\n",
       "      <td>294.52</td>\n",
       "      <td>4.690000</td>\n",
       "      <td>NaN</td>\n",
       "      <td>NaN</td>\n",
       "      <td>NaN</td>\n",
       "      <td>0.000009</td>\n",
       "      <td>NaN</td>\n",
       "      <td>NaN</td>\n",
       "      <td>NaN</td>\n",
       "      <td>21.52</td>\n",
       "      <td>530.136</td>\n",
       "    </tr>\n",
       "    <tr>\n",
       "      <th>1</th>\n",
       "      <td>H2</td>\n",
       "      <td>Viscosity</td>\n",
       "      <td>Yusibani2011</td>\n",
       "      <td>294.91</td>\n",
       "      <td>10.160000</td>\n",
       "      <td>NaN</td>\n",
       "      <td>NaN</td>\n",
       "      <td>NaN</td>\n",
       "      <td>0.000009</td>\n",
       "      <td>NaN</td>\n",
       "      <td>NaN</td>\n",
       "      <td>NaN</td>\n",
       "      <td>21.91</td>\n",
       "      <td>530.838</td>\n",
       "    </tr>\n",
       "    <tr>\n",
       "      <th>2</th>\n",
       "      <td>H2</td>\n",
       "      <td>Viscosity</td>\n",
       "      <td>Yusibani2011</td>\n",
       "      <td>294.99</td>\n",
       "      <td>34.430000</td>\n",
       "      <td>NaN</td>\n",
       "      <td>NaN</td>\n",
       "      <td>NaN</td>\n",
       "      <td>0.000010</td>\n",
       "      <td>NaN</td>\n",
       "      <td>NaN</td>\n",
       "      <td>NaN</td>\n",
       "      <td>21.99</td>\n",
       "      <td>530.982</td>\n",
       "    </tr>\n",
       "    <tr>\n",
       "      <th>3</th>\n",
       "      <td>H2</td>\n",
       "      <td>Viscosity</td>\n",
       "      <td>Yusibani2011</td>\n",
       "      <td>295.01</td>\n",
       "      <td>52.740000</td>\n",
       "      <td>NaN</td>\n",
       "      <td>NaN</td>\n",
       "      <td>NaN</td>\n",
       "      <td>0.000010</td>\n",
       "      <td>NaN</td>\n",
       "      <td>NaN</td>\n",
       "      <td>NaN</td>\n",
       "      <td>22.01</td>\n",
       "      <td>531.018</td>\n",
       "    </tr>\n",
       "    <tr>\n",
       "      <th>4</th>\n",
       "      <td>H2</td>\n",
       "      <td>Viscosity</td>\n",
       "      <td>Yusibani2011</td>\n",
       "      <td>295.00</td>\n",
       "      <td>81.650000</td>\n",
       "      <td>NaN</td>\n",
       "      <td>NaN</td>\n",
       "      <td>NaN</td>\n",
       "      <td>0.000011</td>\n",
       "      <td>NaN</td>\n",
       "      <td>NaN</td>\n",
       "      <td>NaN</td>\n",
       "      <td>22.00</td>\n",
       "      <td>531.000</td>\n",
       "    </tr>\n",
       "    <tr>\n",
       "      <th>...</th>\n",
       "      <td>...</td>\n",
       "      <td>...</td>\n",
       "      <td>...</td>\n",
       "      <td>...</td>\n",
       "      <td>...</td>\n",
       "      <td>...</td>\n",
       "      <td>...</td>\n",
       "      <td>...</td>\n",
       "      <td>...</td>\n",
       "      <td>...</td>\n",
       "      <td>...</td>\n",
       "      <td>...</td>\n",
       "      <td>...</td>\n",
       "      <td>...</td>\n",
       "    </tr>\n",
       "    <tr>\n",
       "      <th>76</th>\n",
       "      <td>H2</td>\n",
       "      <td>Viscosity</td>\n",
       "      <td>Michels1953</td>\n",
       "      <td>323.15</td>\n",
       "      <td>23.882303</td>\n",
       "      <td>NaN</td>\n",
       "      <td>NaN</td>\n",
       "      <td>NaN</td>\n",
       "      <td>0.000010</td>\n",
       "      <td>NaN</td>\n",
       "      <td>NaN</td>\n",
       "      <td>NaN</td>\n",
       "      <td>50.15</td>\n",
       "      <td>581.670</td>\n",
       "    </tr>\n",
       "    <tr>\n",
       "      <th>77</th>\n",
       "      <td>H2</td>\n",
       "      <td>Viscosity</td>\n",
       "      <td>Michels1953</td>\n",
       "      <td>323.15</td>\n",
       "      <td>29.698358</td>\n",
       "      <td>NaN</td>\n",
       "      <td>NaN</td>\n",
       "      <td>NaN</td>\n",
       "      <td>0.000010</td>\n",
       "      <td>NaN</td>\n",
       "      <td>NaN</td>\n",
       "      <td>NaN</td>\n",
       "      <td>50.15</td>\n",
       "      <td>581.670</td>\n",
       "    </tr>\n",
       "    <tr>\n",
       "      <th>78</th>\n",
       "      <td>H2</td>\n",
       "      <td>Viscosity</td>\n",
       "      <td>Michels1953</td>\n",
       "      <td>323.15</td>\n",
       "      <td>34.855800</td>\n",
       "      <td>NaN</td>\n",
       "      <td>NaN</td>\n",
       "      <td>NaN</td>\n",
       "      <td>0.000010</td>\n",
       "      <td>NaN</td>\n",
       "      <td>NaN</td>\n",
       "      <td>NaN</td>\n",
       "      <td>50.15</td>\n",
       "      <td>581.670</td>\n",
       "    </tr>\n",
       "    <tr>\n",
       "      <th>79</th>\n",
       "      <td>H2</td>\n",
       "      <td>Viscosity</td>\n",
       "      <td>Michels1953</td>\n",
       "      <td>323.15</td>\n",
       "      <td>45.849562</td>\n",
       "      <td>NaN</td>\n",
       "      <td>NaN</td>\n",
       "      <td>NaN</td>\n",
       "      <td>0.000010</td>\n",
       "      <td>NaN</td>\n",
       "      <td>NaN</td>\n",
       "      <td>NaN</td>\n",
       "      <td>50.15</td>\n",
       "      <td>581.670</td>\n",
       "    </tr>\n",
       "    <tr>\n",
       "      <th>80</th>\n",
       "      <td>H2</td>\n",
       "      <td>Viscosity</td>\n",
       "      <td>Michels1953</td>\n",
       "      <td>323.15</td>\n",
       "      <td>55.931400</td>\n",
       "      <td>NaN</td>\n",
       "      <td>NaN</td>\n",
       "      <td>NaN</td>\n",
       "      <td>0.000011</td>\n",
       "      <td>NaN</td>\n",
       "      <td>NaN</td>\n",
       "      <td>NaN</td>\n",
       "      <td>50.15</td>\n",
       "      <td>581.670</td>\n",
       "    </tr>\n",
       "  </tbody>\n",
       "</table>\n",
       "<p>81 rows × 14 columns</p>\n",
       "</div>"
      ],
      "text/plain": [
       "   Fluid   Property       Dataset  #T (K)     P(Mpa)  H2(mol fraction)  \\\n",
       "0     H2  Viscosity  Yusibani2011  294.52   4.690000               NaN   \n",
       "1     H2  Viscosity  Yusibani2011  294.91  10.160000               NaN   \n",
       "2     H2  Viscosity  Yusibani2011  294.99  34.430000               NaN   \n",
       "3     H2  Viscosity  Yusibani2011  295.01  52.740000               NaN   \n",
       "4     H2  Viscosity  Yusibani2011  295.00  81.650000               NaN   \n",
       "..   ...        ...           ...     ...        ...               ...   \n",
       "76    H2  Viscosity   Michels1953  323.15  23.882303               NaN   \n",
       "77    H2  Viscosity   Michels1953  323.15  29.698358               NaN   \n",
       "78    H2  Viscosity   Michels1953  323.15  34.855800               NaN   \n",
       "79    H2  Viscosity   Michels1953  323.15  45.849562               NaN   \n",
       "80    H2  Viscosity   Michels1953  323.15  55.931400               NaN   \n",
       "\n",
       "    rho(kg/m3)   Z  Visc(Pa s)  Thermal Conductivity (W/K/m)  Run  JT  \\\n",
       "0          NaN NaN    0.000009                           NaN  NaN NaN   \n",
       "1          NaN NaN    0.000009                           NaN  NaN NaN   \n",
       "2          NaN NaN    0.000010                           NaN  NaN NaN   \n",
       "3          NaN NaN    0.000010                           NaN  NaN NaN   \n",
       "4          NaN NaN    0.000011                           NaN  NaN NaN   \n",
       "..         ...  ..         ...                           ...  ...  ..   \n",
       "76         NaN NaN    0.000010                           NaN  NaN NaN   \n",
       "77         NaN NaN    0.000010                           NaN  NaN NaN   \n",
       "78         NaN NaN    0.000010                           NaN  NaN NaN   \n",
       "79         NaN NaN    0.000010                           NaN  NaN NaN   \n",
       "80         NaN NaN    0.000011                           NaN  NaN NaN   \n",
       "\n",
       "    T (  C)  T (   R)  \n",
       "0     21.52   530.136  \n",
       "1     21.91   530.838  \n",
       "2     21.99   530.982  \n",
       "3     22.01   531.018  \n",
       "4     22.00   531.000  \n",
       "..      ...       ...  \n",
       "76    50.15   581.670  \n",
       "77    50.15   581.670  \n",
       "78    50.15   581.670  \n",
       "79    50.15   581.670  \n",
       "80    50.15   581.670  \n",
       "\n",
       "[81 rows x 14 columns]"
      ]
     },
     "execution_count": 1,
     "metadata": {},
     "output_type": "execute_result"
    }
   ],
   "source": [
    "import pandas as pd\n",
    "expdata_df = pd.read_csv('../../../data/physicalproperties/viscosity/hydrogen.csv')\n",
    "expdata_df"
   ]
  },
  {
   "cell_type": "code",
   "execution_count": 3,
   "metadata": {},
   "outputs": [
    {
     "data": {
      "text/plain": [
       "<Figure size 640x480 with 0 Axes>"
      ]
     },
     "metadata": {},
     "output_type": "display_data"
    },
    {
     "data": {
      "image/png": "[encoded data removed]",
      "text/plain": [
       "<Figure size 640x480 with 1 Axes>"
      ]
     },
     "metadata": {},
     "output_type": "display_data"
    }
   ],
   "source": [
    "from matplotlib import pyplot as plt\n",
    "fig = plt.figure()\n",
    "\n",
    "expdata_df.plot(x='#T (K)', y='Visc(Pa s)', kind='scatter',ylabel='Viscosity(cP)', xlabel='Temperature[K]',color='red')\n",
    "\n",
    "plt.show()"
   ]
  },
  {
   "attachments": {},
   "cell_type": "markdown",
   "metadata": {},
   "source": [
    "# Evaluation of experimental data\n",
    "\n",
    "In this section the experimental data will be evaluated and eventual some data sets will be removed from the set."
   ]
  },
  {
   "cell_type": "code",
   "execution_count": null,
   "metadata": {},
   "outputs": [],
   "source": []
  },
  {
   "attachments": {},
   "cell_type": "markdown",
   "metadata": {},
   "source": [
    "# Compare to NeqSim Calculations"
   ]
  },
  {
   "attachments": {},
   "cell_type": "markdown",
   "metadata": {},
   "source": [
    "## NeqSim calculations"
   ]
  },
  {
   "cell_type": "code",
   "execution_count": 12,
   "metadata": {},
   "outputs": [
    {
     "data": {
      "text/plain": [
       "<Figure size 640x480 with 0 Axes>"
      ]
     },
     "metadata": {},
     "output_type": "display_data"
    },
    {
     "data": {
      "image/png": "[encoded data removed]",
      "text/plain": [
       "<Figure size 640x480 with 1 Axes>"
      ]
     },
     "metadata": {},
     "output_type": "display_data"
    }
   ],
   "source": [
    "import neqsim\n",
    "from neqsim.thermo.thermoTools import fluid, TPflash, fluidComposition,bubp\n",
    "import pandas as pd\n",
    "import numpy as np\n",
    "\n",
    "fluid1 = fluid('pr')\n",
    "fluid1.addComponent('hydrogen', 1.0)\n",
    "fluid1.setTemperature(15.0, 'C')\n",
    "fluid1.setPressure(100.0, 'bara')\n",
    "\n",
    "def viscosity(temp):\n",
    "    fluid1.setTemperature(temp, 'K')\n",
    "    fluid1.setPressure(1.0, 'bara') #need ti be updated with correct pressure\n",
    "    try:\n",
    "        TPflash(fluid1)\n",
    "        fluid1.initProperties()\n",
    "        return fluid1.getPhase('gas').getViscosity('cP')/1000.0\n",
    "    except:\n",
    "        return float(\"nan\")\n",
    "temperatures = expdata_df['#T (K)'].values.tolist()\n",
    "visc_res = [viscosity(T) for T in temperatures]\n",
    "\n",
    "dataWithExperiment = expdata_df.assign(calc_viscosity = visc_res)\n",
    "\n",
    "from matplotlib import pyplot as plt\n",
    "fig = plt.figure()\t\n",
    "plot1 = dataWithExperiment.plot(x='#T (K)', y='Visc(Pa s)', kind='scatter',ylabel='Viscosity(Pas)', xlabel='Temperature[K]',color='black')\t\n",
    "dataWithExperiment.plot(ax=plot1, x='#T (K)', y='calc_viscosity', kind='scatter',ylabel='Viscosity(Pas)', xlabel='Temperature[K]',color='blue')\t\n",
    "plt.legend(['experiment', 'neqsim'])\n",
    "plt.show()"
   ]
  },
  {
   "attachments": {},
   "cell_type": "markdown",
   "metadata": {},
   "source": [
    "# Parameter fitting"
   ]
  },
  {
   "attachments": {},
   "cell_type": "markdown",
   "metadata": {},
   "source": [
    "## Manual fitting"
   ]
  },
  {
   "attachments": {},
   "cell_type": "markdown",
   "metadata": {},
   "source": [
    "## Automatic fitting"
   ]
  }
 ],
 "metadata": {
  "kernelspec": {
   "display_name": "Python 3",
   "language": "python",
   "name": "python3"
  },
  "language_info": {
   "codemirror_mode": {
    "name": "ipython",
    "version": 3
   },
   "file_extension": ".py",
   "mimetype": "text/x-python",
   "name": "python",
   "nbconvert_exporter": "python",
   "pygments_lexer": "ipython3",
   "version": "3.10.4"
  },
  "orig_nbformat": 4
 },
 "nbformat": 4,
 "nbformat_minor": 2
}
